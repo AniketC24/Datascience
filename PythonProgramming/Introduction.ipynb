{
 "cells": [
  {
   "cell_type": "markdown",
   "id": "e5464e5e",
   "metadata": {},
   "source": [
    "### Introduction Of Python Programming"
   ]
  },
  {
   "cell_type": "code",
   "execution_count": 3,
   "id": "e283e891",
   "metadata": {},
   "outputs": [
    {
     "name": "stdout",
     "output_type": "stream",
     "text": [
      "<class 'int'>\n",
      "<class 'float'>\n",
      "<class 'str'>\n"
     ]
    }
   ],
   "source": [
    "# Variable Defination\n",
    "number = 1000          # Defining Integer Variable\n",
    "decimal = 1000.890     # Defining Float Variable\n",
    "\n",
    "string = 'Hello World' # Definig String: \"Text Information\"\n",
    "\n",
    "'''\n",
    "Data types in python are as follow:\n",
    "Integer \n",
    "Float\n",
    "String\n",
    "'''\n",
    "\n",
    "# Checking Datatypes of Variables\n",
    "print(type(number))\n",
    "print(type(decimal))\n",
    "print(type(string))\n",
    "\n"
   ]
  },
  {
   "cell_type": "code",
   "execution_count": 1,
   "id": "f5713bee",
   "metadata": {},
   "outputs": [
    {
     "name": "stdout",
     "output_type": "stream",
     "text": [
      "100\n"
     ]
    }
   ],
   "source": [
    "# Type casting og Data type\n",
    "\n",
    "num = 100.2908383             # Datatype : Float\n",
    "\n",
    "print(int(num))               # Float is typecasted to int\n"
   ]
  },
  {
   "cell_type": "code",
   "execution_count": 4,
   "id": "c7c389b1-ebf2-4424-af09-a69a0157622b",
   "metadata": {},
   "outputs": [
    {
     "name": "stdout",
     "output_type": "stream",
     "text": [
      "Enter the Value:  1000\n"
     ]
    },
    {
     "name": "stdout",
     "output_type": "stream",
     "text": [
      "<class 'str'>\n",
      "1000\n",
      "1000.0\n"
     ]
    }
   ],
   "source": [
    "# Using input function\n",
    "# inut()   :---> Function\n",
    "num = input('Enter the Value: ')\n",
    "\n",
    "'''\n",
    "Where we use input function, the output of input function is always string \n",
    "'''\n",
    "\n",
    "print(type(num))         \n",
    "\n",
    "# Doing Typecasting\n",
    "print(int(num))        # Typecasting String value to integer\n",
    "print(float(num))      # Typecasting String value to float\n",
    "\n",
    "\n"
   ]
  },
  {
   "cell_type": "code",
   "execution_count": 3,
   "id": "6cc67210-0f4b-4151-9ed4-82fbfaeb01cc",
   "metadata": {},
   "outputs": [
    {
     "name": "stdout",
     "output_type": "stream",
     "text": [
      "Enter the name of the person:  Rohit Sharma\n"
     ]
    },
    {
     "name": "stdout",
     "output_type": "stream",
     "text": [
      "<class 'str'>\n"
     ]
    }
   ],
   "source": [
    "# Ask the users to enter the string using input function\n",
    "\n",
    "str = input('Enter the name of the person: ')\n",
    "print(type(str))"
   ]
  },
  {
   "cell_type": "code",
   "execution_count": 2,
   "id": "694879a6-5009-4ed5-8565-3835a3b35d4f",
   "metadata": {},
   "outputs": [
    {
     "name": "stdout",
     "output_type": "stream",
     "text": [
      "The addition of two numbers as 10.0 and 20.0 is  30.0\n",
      "The addition of two numbers as num1 and num2 is  30.0\n"
     ]
    }
   ],
   "source": [
    "# Perform Mathmatical Operations\n",
    "\n",
    "num1 = float(input('Enter the First Number: '))\n",
    "num2 = float(input('Enter the First Number: '))\n",
    "\n",
    "num3 = num1 + num2\n",
    "\n",
    "\n",
    "# Using fstring method (format string)\n",
    "\n",
    "print(f'The addition of two numbers as {num1} and {num2} is ',num3)       # First Method\n",
    "\n",
    "# Using Variable Method\n",
    "\n",
    "print(f'The addition of two numbers as num1 and num2 is ',num3)           # Second Method\n",
    "\n"
   ]
  },
  {
   "cell_type": "code",
   "execution_count": 3,
   "id": "6225ee79",
   "metadata": {},
   "outputs": [
    {
     "name": "stdout",
     "output_type": "stream",
     "text": [
      "w\n",
      "w\n"
     ]
    }
   ],
   "source": [
    "# String Indexing and Slicing\n",
    "\n",
    "string = input('Enter the String: ')\n",
    "\n",
    "''' \n",
    "H e l l o   w o r l d\n",
    "0 1 2 3 4 5 6 7 8 9 10  : left > Right\n",
    "..............-3 -2 -1  : right > Left\n",
    "\n",
    "'''\n",
    "\n",
    "print(string[6])      # Indexing\n",
    "print(string[-5])     # Indexing\n",
    "\n",
    "\n",
    "\n",
    "\n",
    "\n",
    "\n"
   ]
  },
  {
   "cell_type": "code",
   "execution_count": 5,
   "id": "5a1b140b",
   "metadata": {},
   "outputs": [
    {
     "name": "stdout",
     "output_type": "stream",
     "text": [
      "ell\n",
      "Hello Worl\n",
      "llo Wor\n",
      "o Worl\n"
     ]
    }
   ],
   "source": [
    "# Concept of Slicing\n",
    "string = input('Enter the String: ')\n",
    "\n",
    "''' \n",
    "string[Start:Stop]\n",
    "Example:\n",
    "string = Hello Word\n",
    "string[1:4]  --->  o/p:--> ell\n",
    "\n",
    "'''\n",
    "\n",
    "print(string[1:4])\n",
    "print(string[:-1])\n",
    "print(string[2:-2])\n",
    "print(string[4:-1])\n"
   ]
  },
  {
   "cell_type": "code",
   "execution_count": 6,
   "id": "37debd2d",
   "metadata": {},
   "outputs": [
    {
     "name": "stdout",
     "output_type": "stream",
     "text": [
      "el ol\n"
     ]
    }
   ],
   "source": [
    "\n",
    "# Concept of Slicing\n",
    "string = input('Enter the String: ')\n",
    "\n",
    "''' \n",
    "string[Start:Stop:Step]\n",
    "Example:\n",
    "string = Hello Word\n",
    "string[1::2]  --->  o/p:--> el\n",
    "\n",
    "'''\n",
    "print(string[1::2])\n"
   ]
  },
  {
   "cell_type": "code",
   "execution_count": 7,
   "id": "19939853",
   "metadata": {},
   "outputs": [
    {
     "name": "stdout",
     "output_type": "stream",
     "text": [
      "Hlowloet h ol fpto rgamn\n",
      "o welcome to the world of python programmi\n",
      "gnimmargorp nohtyp fo dlrow eht ot emoclew olleH\n",
      "Hello welcome to the world of python programmi\n"
     ]
    }
   ],
   "source": [
    "# Concept of Indexing and Slicing Together\n",
    "\n",
    "str = 'Hello welcome to the world of python programming'\n",
    "\n",
    "print(str[::2])\n",
    "print(str[4:-2:])\n",
    "print(str[::-1])\n",
    "print(str[:-2:1])\n"
   ]
  },
  {
   "cell_type": "code",
   "execution_count": null,
   "id": "dc7d539c",
   "metadata": {},
   "outputs": [
    {
     "name": "stdout",
     "output_type": "stream",
     "text": [
      "[10, 20, 30, 40, 50]\n",
      "<class 'list'>\n",
      "[10, 20, 30, 40, 50, 50]\n"
     ]
    }
   ],
   "source": [
    "# Data Structures in Python programming\n",
    "\n",
    "''' \n",
    "1. List          : []                          :Mutable in Nature    \n",
    "2. Tuple         : ()                          :Immutable in Nature\n",
    "3. Dictionary    : {'key1':Value, 'key2':Value}:Immutable in Nature\n",
    "4. Sets          : {1,2,3,4,5}                 :immutable in Nature\n",
    "\n",
    "If you are performing any computaionat opration or soft development tuple is preffered compared to list.\n",
    "Because tuple Immutable in nature  It perform fast operations \n",
    "'''\n",
    "\n",
    "# List Definition\n",
    "\n",
    "lst = [10,20,30,40,50]\n",
    "\n",
    "print(lst)\n",
    "print(type(lst))\n",
    "\n",
    "# lst (list)\n",
    "# append() this is function which define in class list\n",
    "# Therefore, append() is a method of class list \n",
    "# lst.append(50) : You are calling function using .operator\n",
    "lst .append(50)   # this function add the value 50 at the end of the array\n",
    "print(lst)\n"
   ]
  },
  {
   "cell_type": "code",
   "execution_count": null,
   "id": "54e021f5",
   "metadata": {},
   "outputs": [
    {
     "name": "stdout",
     "output_type": "stream",
     "text": [
      "[5, 10, 20, 30, 40, 50, 50]\n"
     ]
    }
   ],
   "source": [
    "lst.insert (0,5)       # This function will add the value 5 at an index 0\n",
    "print(lst) "
   ]
  },
  {
   "cell_type": "code",
   "execution_count": 6,
   "id": "e58f0364",
   "metadata": {},
   "outputs": [
    {
     "data": {
      "text/plain": [
       "1"
      ]
     },
     "execution_count": 6,
     "metadata": {},
     "output_type": "execute_result"
    }
   ],
   "source": [
    "lst.count(10)"
   ]
  },
  {
   "cell_type": "code",
   "execution_count": null,
   "id": "b530a460",
   "metadata": {},
   "outputs": [
    {
     "data": {
      "text/plain": [
       "50"
      ]
     },
     "execution_count": 7,
     "metadata": {},
     "output_type": "execute_result"
    }
   ],
   "source": [
    "lst.pop()    # this function will remove the last number present in the list"
   ]
  },
  {
   "cell_type": "code",
   "execution_count": 8,
   "id": "096a4263",
   "metadata": {},
   "outputs": [
    {
     "name": "stdout",
     "output_type": "stream",
     "text": [
      "[5, 10, 20, 30, 40, 50]\n"
     ]
    }
   ],
   "source": [
    "print(lst)"
   ]
  },
  {
   "cell_type": "code",
   "execution_count": 10,
   "id": "93f2a76e",
   "metadata": {},
   "outputs": [
    {
     "data": {
      "text/plain": [
       "50"
      ]
     },
     "execution_count": 10,
     "metadata": {},
     "output_type": "execute_result"
    }
   ],
   "source": [
    "lst.pop()"
   ]
  },
  {
   "cell_type": "code",
   "execution_count": 11,
   "id": "f0eb9897",
   "metadata": {},
   "outputs": [
    {
     "name": "stdout",
     "output_type": "stream",
     "text": [
      "[5, 10, 20, 30, 40]\n"
     ]
    }
   ],
   "source": [
    "print(lst)"
   ]
  },
  {
   "cell_type": "code",
   "execution_count": null,
   "id": "123aca2c",
   "metadata": {},
   "outputs": [
    {
     "name": "stdout",
     "output_type": "stream",
     "text": [
      "[5, 20, 30, 40]\n"
     ]
    }
   ],
   "source": [
    "lst.remove(10)   # this function will remove the specified value\n",
    "print(lst)"
   ]
  },
  {
   "cell_type": "code",
   "execution_count": 13,
   "id": "aa12f343",
   "metadata": {},
   "outputs": [
    {
     "name": "stdout",
     "output_type": "stream",
     "text": [
      "[10, 10, 30, 30, 40, 20]\n"
     ]
    }
   ],
   "source": [
    "lst = [10,10,10,20,30,30,20,40,20,60]\n",
    "lst.pop()\n",
    "lst.remove(10)\n",
    "lst.remove(20)\n",
    "lst.remove(20)\n",
    "print(lst)"
   ]
  },
  {
   "cell_type": "code",
   "execution_count": 14,
   "id": "0e9ecffb",
   "metadata": {},
   "outputs": [
    {
     "name": "stdout",
     "output_type": "stream",
     "text": [
      "6\n"
     ]
    }
   ],
   "source": [
    "# Calculate lenght of the numbers present in list\n",
    "# len() : function\n",
    "print(len(lst)) "
   ]
  },
  {
   "cell_type": "code",
   "execution_count": 17,
   "id": "ac9a0075",
   "metadata": {},
   "outputs": [
    {
     "name": "stdout",
     "output_type": "stream",
     "text": [
      "[10, 30, 50]\n",
      "[60, 50, 40, 30, 20, 10]\n",
      "30\n"
     ]
    }
   ],
   "source": [
    "# Concept of Indexing and Slicing on list\n",
    "lst = [10,20,30,40,50,60]\n",
    "print(lst[0::2])\n",
    "print(lst[::-1])\n",
    "print(lst[2])"
   ]
  },
  {
   "cell_type": "code",
   "execution_count": 20,
   "id": "85237db0",
   "metadata": {},
   "outputs": [],
   "source": [
    "# Example 1\n",
    "\n",
    "lst =[10,20,30,[40,50,60],[1,[2,[3,4,5,6],7],8,9],10]\n"
   ]
  },
  {
   "cell_type": "code",
   "execution_count": 21,
   "id": "450d0402",
   "metadata": {},
   "outputs": [
    {
     "data": {
      "text/plain": [
       "5"
      ]
     },
     "execution_count": 21,
     "metadata": {},
     "output_type": "execute_result"
    }
   ],
   "source": [
    "# o/p : 5\n",
    "lst[4][1][1][2]"
   ]
  },
  {
   "cell_type": "code",
   "execution_count": 22,
   "id": "3520c7c2",
   "metadata": {},
   "outputs": [],
   "source": [
    "# Example 2\n",
    "\n",
    "lst = [10,20,[1,2,3,[10,20,[30,[40,50,[60],70],90],9,100],1000],2000,[10000]]"
   ]
  },
  {
   "cell_type": "code",
   "execution_count": 23,
   "id": "e33d7365",
   "metadata": {},
   "outputs": [
    {
     "data": {
      "text/plain": [
       "60"
      ]
     },
     "execution_count": 23,
     "metadata": {},
     "output_type": "execute_result"
    }
   ],
   "source": [
    "# o/p : 60\n",
    "lst[2][3][2][1][2][0]"
   ]
  },
  {
   "cell_type": "code",
   "execution_count": 25,
   "id": "eb473d75",
   "metadata": {},
   "outputs": [
    {
     "data": {
      "text/plain": [
       "600"
      ]
     },
     "execution_count": 25,
     "metadata": {},
     "output_type": "execute_result"
    }
   ],
   "source": [
    "# Example 3\n",
    "# o/p : 600\n",
    "\n",
    "lst = [10,[100,200,300,[400,[500,[[[600],700],1],10],20]]]\n",
    "\n",
    "lst[1][3][1][1][0][0][0]"
   ]
  },
  {
   "cell_type": "code",
   "execution_count": 26,
   "id": "68d2e1c6",
   "metadata": {},
   "outputs": [
    {
     "data": {
      "text/plain": [
       "[800, 900, 1000]"
      ]
     },
     "execution_count": 26,
     "metadata": {},
     "output_type": "execute_result"
    }
   ],
   "source": [
    "# Example 4\n",
    "# o/p : [800,900,1000]\n",
    "\n",
    "lst = [10,[100,200,300,[400,[500,[[[600,700,800,900,1000,1100,1200],700],1],10],20]]]\n",
    "\n",
    "lst[1][3][1][1][0][0][2:5]\n"
   ]
  }
 ],
 "metadata": {
  "kernelspec": {
   "display_name": "base",
   "language": "python",
   "name": "python3"
  },
  "language_info": {
   "codemirror_mode": {
    "name": "ipython",
    "version": 3
   },
   "file_extension": ".py",
   "mimetype": "text/x-python",
   "name": "python",
   "nbconvert_exporter": "python",
   "pygments_lexer": "ipython3",
   "version": "3.12.7"
  }
 },
 "nbformat": 4,
 "nbformat_minor": 5
}
