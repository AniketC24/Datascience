{
 "cells": [
  {
   "cell_type": "markdown",
   "id": "e5464e5e",
   "metadata": {},
   "source": [
    "### Introduction Of Python Programming"
   ]
  },
  {
   "cell_type": "code",
   "execution_count": 3,
   "id": "e283e891",
   "metadata": {},
   "outputs": [
    {
     "name": "stdout",
     "output_type": "stream",
     "text": [
      "<class 'int'>\n",
      "<class 'float'>\n",
      "<class 'str'>\n"
     ]
    }
   ],
   "source": [
    "# Variable Defination\n",
    "number = 1000          # Defining Integer Variable\n",
    "decimal = 1000.890     # Defining Float Variable\n",
    "\n",
    "string = 'Hello World' # Definig String: \"Text Information\"\n",
    "\n",
    "'''\n",
    "Data types in python are as follow:\n",
    "Integer \n",
    "Float\n",
    "String\n",
    "'''\n",
    "\n",
    "# Checking Datatypes of Variables\n",
    "print(type(number))\n",
    "print(type(decimal))\n",
    "print(type(string))\n",
    "\n"
   ]
  },
  {
   "cell_type": "code",
   "execution_count": 1,
   "id": "f5713bee",
   "metadata": {},
   "outputs": [
    {
     "name": "stdout",
     "output_type": "stream",
     "text": [
      "100\n"
     ]
    }
   ],
   "source": [
    "# Type casting og Data type\n",
    "\n",
    "num = 100.2908383             # Datatype : Float\n",
    "\n",
    "print(int(num))               # Float is typecasted to int\n"
   ]
  },
  {
   "cell_type": "code",
   "execution_count": 4,
   "id": "c7c389b1-ebf2-4424-af09-a69a0157622b",
   "metadata": {},
   "outputs": [
    {
     "name": "stdout",
     "output_type": "stream",
     "text": [
      "Enter the Value:  1000\n"
     ]
    },
    {
     "name": "stdout",
     "output_type": "stream",
     "text": [
      "<class 'str'>\n",
      "1000\n",
      "1000.0\n"
     ]
    }
   ],
   "source": [
    "# Using input function\n",
    "# inut()   :---> Function\n",
    "num = input('Enter the Value: ')\n",
    "\n",
    "'''\n",
    "Where we use input function, the output of input function is always string \n",
    "'''\n",
    "\n",
    "print(type(num))         \n",
    "\n",
    "# Doing Typecasting\n",
    "print(int(num))        # Typecasting String value to integer\n",
    "print(float(num))      # Typecasting String value to float\n",
    "\n",
    "\n"
   ]
  },
  {
   "cell_type": "code",
   "execution_count": 3,
   "id": "6cc67210-0f4b-4151-9ed4-82fbfaeb01cc",
   "metadata": {},
   "outputs": [
    {
     "name": "stdout",
     "output_type": "stream",
     "text": [
      "Enter the name of the person:  Rohit Sharma\n"
     ]
    },
    {
     "name": "stdout",
     "output_type": "stream",
     "text": [
      "<class 'str'>\n"
     ]
    }
   ],
   "source": [
    "# Ask the users to enter the string using input function\n",
    "\n",
    "str = input('Enter the name of the person: ')\n",
    "print(type(str))"
   ]
  },
  {
   "cell_type": "code",
   "execution_count": 2,
   "id": "694879a6-5009-4ed5-8565-3835a3b35d4f",
   "metadata": {},
   "outputs": [
    {
     "name": "stdout",
     "output_type": "stream",
     "text": [
      "The addition of two numbers as 10.0 and 20.0 is  30.0\n",
      "The addition of two numbers as num1 and num2 is  30.0\n"
     ]
    }
   ],
   "source": [
    "# Perform Mathmatical Operations\n",
    "\n",
    "num1 = float(input('Enter the First Number: '))\n",
    "num2 = float(input('Enter the First Number: '))\n",
    "\n",
    "num3 = num1 + num2\n",
    "\n",
    "\n",
    "# Using fstring method (format string)\n",
    "\n",
    "print(f'The addition of two numbers as {num1} and {num2} is ',num3)       # First Method\n",
    "\n",
    "# Using Variable Method\n",
    "\n",
    "print(f'The addition of two numbers as num1 and num2 is ',num3)           # Second Method\n",
    "\n"
   ]
  },
  {
   "cell_type": "code",
   "execution_count": 3,
   "id": "6225ee79",
   "metadata": {},
   "outputs": [
    {
     "name": "stdout",
     "output_type": "stream",
     "text": [
      "w\n",
      "w\n"
     ]
    }
   ],
   "source": [
    "# String Indexing and Slicing\n",
    "\n",
    "string = input('Enter the String: ')\n",
    "\n",
    "''' \n",
    "H e l l o   w o r l d\n",
    "0 1 2 3 4 5 6 7 8 9 10  : left > Right\n",
    "..............-3 -2 -1  : right > Left\n",
    "\n",
    "'''\n",
    "\n",
    "print(string[6])      # Indexing\n",
    "print(string[-5])     # Indexing\n",
    "\n",
    "\n",
    "\n",
    "\n",
    "\n",
    "\n"
   ]
  },
  {
   "cell_type": "code",
   "execution_count": 5,
   "id": "5a1b140b",
   "metadata": {},
   "outputs": [
    {
     "name": "stdout",
     "output_type": "stream",
     "text": [
      "ell\n",
      "Hello Worl\n",
      "llo Wor\n",
      "o Worl\n"
     ]
    }
   ],
   "source": [
    "# Concept of Slicing\n",
    "string = input('Enter the String: ')\n",
    "\n",
    "''' \n",
    "string[Start:Stop]\n",
    "Example:\n",
    "string = Hello Word\n",
    "string[1:4]  --->  o/p:--> ell\n",
    "\n",
    "'''\n",
    "\n",
    "print(string[1:4])\n",
    "print(string[:-1])\n",
    "print(string[2:-2])\n",
    "print(string[4:-1])\n"
   ]
  },
  {
   "cell_type": "code",
   "execution_count": 6,
   "id": "37debd2d",
   "metadata": {},
   "outputs": [
    {
     "name": "stdout",
     "output_type": "stream",
     "text": [
      "el ol\n"
     ]
    }
   ],
   "source": [
    "\n",
    "# Concept of Slicing\n",
    "string = input('Enter the String: ')\n",
    "\n",
    "''' \n",
    "string[Start:Stop:Step]\n",
    "Example:\n",
    "string = Hello Word\n",
    "string[1::2]  --->  o/p:--> el\n",
    "\n",
    "'''\n",
    "print(string[1::2])\n"
   ]
  },
  {
   "cell_type": "code",
   "execution_count": 7,
   "id": "19939853",
   "metadata": {},
   "outputs": [
    {
     "name": "stdout",
     "output_type": "stream",
     "text": [
      "Hlowloet h ol fpto rgamn\n",
      "o welcome to the world of python programmi\n",
      "gnimmargorp nohtyp fo dlrow eht ot emoclew olleH\n",
      "Hello welcome to the world of python programmi\n"
     ]
    }
   ],
   "source": [
    "# Concept of Indexing and Slicing Together\n",
    "\n",
    "str = 'Hello welcome to the world of python programming'\n",
    "\n",
    "print(str[::2])\n",
    "print(str[4:-2:])\n",
    "print(str[::-1])\n",
    "print(str[:-2:1])\n"
   ]
  },
  {
   "cell_type": "code",
   "execution_count": null,
   "id": "dc7d539c",
   "metadata": {},
   "outputs": [
    {
     "name": "stdout",
     "output_type": "stream",
     "text": [
      "[10, 20, 30, 40, 50]\n",
      "<class 'list'>\n",
      "[10, 20, 30, 40, 50, 50]\n"
     ]
    }
   ],
   "source": [
    "# Data Structures in Python programming\n",
    "\n",
    "''' \n",
    "1. List          : []                          :Mutable in Nature    \n",
    "2. Tuple         : ()                          :Immutable in Nature\n",
    "3. Dictionary    : {'key1':Value, 'key2':Value}:Immutable in Nature\n",
    "4. Sets          : {1,2,3,4,5}                 :immutable in Nature\n",
    "\n",
    "If you are performing any computaionat opration or soft development tuple is preffered compared to list.\n",
    "Because tuple Immutable in nature  It perform fast operations \n",
    "'''\n",
    "\n",
    "# List Definition\n",
    "\n",
    "lst = [10,20,30,40,50]\n",
    "\n",
    "print(lst)\n",
    "print(type(lst))\n",
    "\n",
    "# lst (list)\n",
    "# append() this is function which define in class list\n",
    "# Therefore, append() is a method of class list \n",
    "# lst.append(50) : You are calling function using .operator\n",
    "lst .append(50)   # this function add the value 50 at the end of the array\n",
    "print(lst)\n"
   ]
  },
  {
   "cell_type": "code",
   "execution_count": null,
   "id": "54e021f5",
   "metadata": {},
   "outputs": [
    {
     "name": "stdout",
     "output_type": "stream",
     "text": [
      "[5, 10, 20, 30, 40, 50, 50]\n"
     ]
    }
   ],
   "source": [
    "lst.insert (0,5)       # This function will add the value 5 at an index 0\n",
    "print(lst) "
   ]
  },
  {
   "cell_type": "code",
   "execution_count": 6,
   "id": "e58f0364",
   "metadata": {},
   "outputs": [
    {
     "data": {
      "text/plain": [
       "1"
      ]
     },
     "execution_count": 6,
     "metadata": {},
     "output_type": "execute_result"
    }
   ],
   "source": [
    "lst.count(10)"
   ]
  },
  {
   "cell_type": "code",
   "execution_count": null,
   "id": "b530a460",
   "metadata": {},
   "outputs": [
    {
     "data": {
      "text/plain": [
       "50"
      ]
     },
     "execution_count": 7,
     "metadata": {},
     "output_type": "execute_result"
    }
   ],
   "source": [
    "lst.pop()    # this function will remove the last number present in the list"
   ]
  },
  {
   "cell_type": "code",
   "execution_count": 8,
   "id": "096a4263",
   "metadata": {},
   "outputs": [
    {
     "name": "stdout",
     "output_type": "stream",
     "text": [
      "[5, 10, 20, 30, 40, 50]\n"
     ]
    }
   ],
   "source": [
    "print(lst)"
   ]
  },
  {
   "cell_type": "code",
   "execution_count": 10,
   "id": "93f2a76e",
   "metadata": {},
   "outputs": [
    {
     "data": {
      "text/plain": [
       "50"
      ]
     },
     "execution_count": 10,
     "metadata": {},
     "output_type": "execute_result"
    }
   ],
   "source": [
    "lst.pop()"
   ]
  },
  {
   "cell_type": "code",
   "execution_count": 11,
   "id": "f0eb9897",
   "metadata": {},
   "outputs": [
    {
     "name": "stdout",
     "output_type": "stream",
     "text": [
      "[5, 10, 20, 30, 40]\n"
     ]
    }
   ],
   "source": [
    "print(lst)"
   ]
  },
  {
   "cell_type": "code",
   "execution_count": null,
   "id": "123aca2c",
   "metadata": {},
   "outputs": [
    {
     "name": "stdout",
     "output_type": "stream",
     "text": [
      "[5, 20, 30, 40]\n"
     ]
    }
   ],
   "source": [
    "lst.remove(10)   # this function will remove the specified value\n",
    "print(lst)"
   ]
  },
  {
   "cell_type": "code",
   "execution_count": 13,
   "id": "aa12f343",
   "metadata": {},
   "outputs": [
    {
     "name": "stdout",
     "output_type": "stream",
     "text": [
      "[10, 10, 30, 30, 40, 20]\n"
     ]
    }
   ],
   "source": [
    "lst = [10,10,10,20,30,30,20,40,20,60]\n",
    "lst.pop()\n",
    "lst.remove(10)\n",
    "lst.remove(20)\n",
    "lst.remove(20)\n",
    "print(lst)"
   ]
  },
  {
   "cell_type": "code",
   "execution_count": 14,
   "id": "0e9ecffb",
   "metadata": {},
   "outputs": [
    {
     "name": "stdout",
     "output_type": "stream",
     "text": [
      "6\n"
     ]
    }
   ],
   "source": [
    "# Calculate lenght of the numbers present in list\n",
    "# len() : function\n",
    "print(len(lst)) "
   ]
  },
  {
   "cell_type": "code",
   "execution_count": 17,
   "id": "ac9a0075",
   "metadata": {},
   "outputs": [
    {
     "name": "stdout",
     "output_type": "stream",
     "text": [
      "[10, 30, 50]\n",
      "[60, 50, 40, 30, 20, 10]\n",
      "30\n"
     ]
    }
   ],
   "source": [
    "# Concept of Indexing and Slicing on list\n",
    "lst = [10,20,30,40,50,60]\n",
    "print(lst[0::2])\n",
    "print(lst[::-1])\n",
    "print(lst[2])"
   ]
  },
  {
   "cell_type": "code",
   "execution_count": 20,
   "id": "85237db0",
   "metadata": {},
   "outputs": [],
   "source": [
    "# Example 1\n",
    "\n",
    "lst =[10,20,30,[40,50,60],[1,[2,[3,4,5,6],7],8,9],10]\n"
   ]
  },
  {
   "cell_type": "code",
   "execution_count": 21,
   "id": "450d0402",
   "metadata": {},
   "outputs": [
    {
     "data": {
      "text/plain": [
       "5"
      ]
     },
     "execution_count": 21,
     "metadata": {},
     "output_type": "execute_result"
    }
   ],
   "source": [
    "# o/p : 5\n",
    "lst[4][1][1][2]"
   ]
  },
  {
   "cell_type": "code",
   "execution_count": 22,
   "id": "3520c7c2",
   "metadata": {},
   "outputs": [],
   "source": [
    "# Example 2\n",
    "\n",
    "lst = [10,20,[1,2,3,[10,20,[30,[40,50,[60],70],90],9,100],1000],2000,[10000]]"
   ]
  },
  {
   "cell_type": "code",
   "execution_count": 23,
   "id": "e33d7365",
   "metadata": {},
   "outputs": [
    {
     "data": {
      "text/plain": [
       "60"
      ]
     },
     "execution_count": 23,
     "metadata": {},
     "output_type": "execute_result"
    }
   ],
   "source": [
    "# o/p : 60\n",
    "lst[2][3][2][1][2][0]"
   ]
  },
  {
   "cell_type": "code",
   "execution_count": 25,
   "id": "eb473d75",
   "metadata": {},
   "outputs": [
    {
     "data": {
      "text/plain": [
       "600"
      ]
     },
     "execution_count": 25,
     "metadata": {},
     "output_type": "execute_result"
    }
   ],
   "source": [
    "# Example 3\n",
    "# o/p : 600\n",
    "\n",
    "lst = [10,[100,200,300,[400,[500,[[[600],700],1],10],20]]]\n",
    "\n",
    "lst[1][3][1][1][0][0][0]"
   ]
  },
  {
   "cell_type": "code",
   "execution_count": 2,
   "id": "68d2e1c6",
   "metadata": {},
   "outputs": [
    {
     "data": {
      "text/plain": [
       "[800, 900, 1000]"
      ]
     },
     "execution_count": 2,
     "metadata": {},
     "output_type": "execute_result"
    }
   ],
   "source": [
    "# Example 4\n",
    "# o/p : [800,900,1000]\n",
    "\n",
    "lst = [10,[100,200,300,[400,[500,[[[600,700,800,900,1000,1100,1200],700],1],10],20]]]\n",
    "\n",
    "lst[1][3][1][1][0][0][2:5]\n"
   ]
  },
  {
   "cell_type": "code",
   "execution_count": 8,
   "id": "5af2b51e",
   "metadata": {},
   "outputs": [
    {
     "name": "stdout",
     "output_type": "stream",
     "text": [
      "<class 'tuple'>\n"
     ]
    },
    {
     "data": {
      "text/plain": [
       "1"
      ]
     },
     "execution_count": 8,
     "metadata": {},
     "output_type": "execute_result"
    }
   ],
   "source": [
    "# Tuple Defination \n",
    "\n",
    "tup = (10,20,30,40)\n",
    "print(type(tup))\n",
    "tup.count(10)\n"
   ]
  },
  {
   "cell_type": "code",
   "execution_count": 3,
   "id": "08a770a8",
   "metadata": {},
   "outputs": [],
   "source": [
    "# tuple indexing and slicing\n",
    "\n",
    "tup = (10,20,30,[40,50,(30,40,(60,70,80))]) "
   ]
  },
  {
   "cell_type": "code",
   "execution_count": 4,
   "id": "0c574118",
   "metadata": {},
   "outputs": [
    {
     "data": {
      "text/plain": [
       "(70, 80)"
      ]
     },
     "execution_count": 4,
     "metadata": {},
     "output_type": "execute_result"
    }
   ],
   "source": [
    "# Example\n",
    "# o/p : 70,80\n",
    "tup[3][2][2][1:]"
   ]
  },
  {
   "cell_type": "code",
   "execution_count": 6,
   "id": "264d176a",
   "metadata": {},
   "outputs": [
    {
     "name": "stdout",
     "output_type": "stream",
     "text": [
      "The value is 10\n"
     ]
    }
   ],
   "source": [
    "# Condition Statement\n",
    "''' \n",
    "if condition==True\n",
    "  perform operation inside the loop\n",
    "  Else:\n",
    "  Note := : Assignment Operater\n",
    "        == : comparison operator \n",
    "        \n",
    "'''\n",
    "\n",
    "num = 10\n",
    "\n",
    "if num == 10:\n",
    "     print('The value is 10')\n",
    "else:\n",
    "     print('The value is Other than 10')\n",
    "\n"
   ]
  },
  {
   "cell_type": "code",
   "execution_count": 7,
   "id": "2d747484",
   "metadata": {},
   "outputs": [
    {
     "name": "stdout",
     "output_type": "stream",
     "text": [
      "The given string is palindrom \n"
     ]
    }
   ],
   "source": [
    "# Check the given string is palindrom or not\n",
    "\n",
    "text = 'dad'\n",
    "text1 = text[::-1]\n",
    "\n",
    "if text == text1 :\n",
    "    print('The given string is palindrom ')\n",
    "else:\n",
    "    print('The given string is Not palindrom')"
   ]
  },
  {
   "cell_type": "code",
   "execution_count": null,
   "id": "159e1a9d",
   "metadata": {},
   "outputs": [],
   "source": [
    "''' \n",
    "if condition:\n",
    "    statement\n",
    "elif condition:\n",
    "    statement\n",
    "else:\n",
    "    statement\n",
    "'''\n"
   ]
  },
  {
   "cell_type": "code",
   "execution_count": 9,
   "id": "aa926e95",
   "metadata": {},
   "outputs": [
    {
     "name": "stdout",
     "output_type": "stream",
     "text": [
      "Good Student\n"
     ]
    }
   ],
   "source": [
    "'''  \n",
    "marks > 80 : Best Student\n",
    "Marks between 60 to 79 : Good Student\n",
    "Marks between 50 to 59 : Average Student\n",
    "Marks< 49 : Poor Student\n",
    "\n",
    "'''\n",
    "\n",
    "marks = float (input('Enter Marks  of the Student:'))\n",
    "\n",
    "if (marks > 80):\n",
    "    print('Best Student')\n",
    "elif (marks < 80 and marks > 60):\n",
    "    print('Good Student')\n",
    "elif (marks < 60 and marks > 50):\n",
    "    print('Average Student')\n",
    "else:\n",
    "    print('Poor Student')\n",
    "\n",
    "\n"
   ]
  },
  {
   "cell_type": "code",
   "execution_count": 13,
   "id": "280e9e52",
   "metadata": {},
   "outputs": [
    {
     "name": "stdout",
     "output_type": "stream",
     "text": [
      "Check your transaction, Once Again\n"
     ]
    }
   ],
   "source": [
    "'''  \n",
    "balance = 10000\n",
    "withdraw = amount \n",
    "threshould = 2000\n",
    "\n",
    "'''\n",
    "balance = 10000\n",
    "withdraw = float(input(\"Enter amount to withdraw: \"))\n",
    "threshold = 2000\n",
    "\n",
    "if withdraw >= balance:\n",
    "    print('Insufficient Balance')\n",
    "if withdraw <= balance:\n",
    "    new_balance = balance - withdraw\n",
    "    if new_balance >= 2000:\n",
    "        print('New Balance is', new_balance)\n",
    "    else :\n",
    "        print('Check your transaction, Once Again')"
   ]
  },
  {
   "cell_type": "code",
   "execution_count": 15,
   "id": "8908c679",
   "metadata": {},
   "outputs": [
    {
     "name": "stdout",
     "output_type": "stream",
     "text": [
      "1\n",
      "2\n",
      "3\n",
      "4\n",
      "5\n",
      "6\n",
      "7\n",
      "8\n",
      "9\n",
      "10\n"
     ]
    }
   ],
   "source": [
    "# For loop\n",
    "for i in range(1,11):\n",
    "    print(i)"
   ]
  },
  {
   "cell_type": "code",
   "execution_count": 16,
   "id": "580f7ce9",
   "metadata": {},
   "outputs": [
    {
     "name": "stdout",
     "output_type": "stream",
     "text": [
      "1 2 3 4 5 6 7 8 9 10 "
     ]
    }
   ],
   "source": [
    "for i in range(1,11):\n",
    "    print(i,end = \" \")"
   ]
  },
  {
   "cell_type": "code",
   "execution_count": 23,
   "id": "d32bb66f",
   "metadata": {},
   "outputs": [
    {
     "name": "stdout",
     "output_type": "stream",
     "text": [
      "* \n",
      "* * \n",
      "* * * \n",
      "* * * * \n",
      "* * * * * \n"
     ]
    }
   ],
   "source": [
    "''' \n",
    "*\n",
    "* * \n",
    "* * *\n",
    "* * * * \n",
    "* * * * *\n",
    "'''\n",
    "for i in range(1,6):\n",
    "    print('* '*i)"
   ]
  },
  {
   "cell_type": "code",
   "execution_count": 25,
   "id": "76166612",
   "metadata": {},
   "outputs": [
    {
     "name": "stdout",
     "output_type": "stream",
     "text": [
      "* \n",
      "* * * * \n",
      "* * * * * * * * * \n",
      "* * * * * * * * * * * * * * * * \n",
      "* * * * * * * * * * * * * * * * * * * * * * * * * \n"
     ]
    }
   ],
   "source": [
    "for i in range(1,6):\n",
    "    print('* '*i*i)"
   ]
  },
  {
   "cell_type": "code",
   "execution_count": 3,
   "id": "b53a5010",
   "metadata": {},
   "outputs": [
    {
     "name": "stdout",
     "output_type": "stream",
     "text": [
      "* \n",
      "* * * * \n",
      "* * * * * * * * * \n",
      "* * * * * * * * * * * * * * * * \n",
      "* * * * * * * * * * * * * * * * * * * * * * * * * \n"
     ]
    }
   ],
   "source": [
    "for i in range(1,6):\n",
    "    print('* '*i**2)"
   ]
  },
  {
   "cell_type": "code",
   "execution_count": 5,
   "id": "ccb80c2b",
   "metadata": {},
   "outputs": [
    {
     "name": "stdout",
     "output_type": "stream",
     "text": [
      "0\n",
      "2\n",
      "4\n",
      "6\n",
      "8\n"
     ]
    }
   ],
   "source": [
    "''' \n",
    "rang (Start,stop,step)\n",
    "'''\n",
    "\n",
    "for i in range(0,10,2):\n",
    "    print(i)"
   ]
  },
  {
   "cell_type": "code",
   "execution_count": 6,
   "id": "c9e48918",
   "metadata": {},
   "outputs": [
    {
     "name": "stdout",
     "output_type": "stream",
     "text": [
      "0\n",
      "1\n",
      "2\n",
      "3\n",
      "4\n",
      "5\n"
     ]
    }
   ],
   "source": [
    "# Using while loop\n",
    "\n",
    "num = 5\n",
    "count = 0\n",
    "while count <=num:\n",
    "    print(count)\n",
    "    count = count + 1"
   ]
  },
  {
   "cell_type": "code",
   "execution_count": 7,
   "id": "c94b5d88",
   "metadata": {},
   "outputs": [
    {
     "name": "stdout",
     "output_type": "stream",
     "text": [
      "0\n",
      "1\n",
      "2\n",
      "3\n",
      "4\n",
      "5\n"
     ]
    }
   ],
   "source": [
    "# Using while loop\n",
    "\n",
    "num = 5\n",
    "i = 0\n",
    "while i <=num:\n",
    "    print(i)\n",
    "    i = i + 1"
   ]
  },
  {
   "cell_type": "code",
   "execution_count": 9,
   "id": "aef1852c",
   "metadata": {},
   "outputs": [
    {
     "name": "stdout",
     "output_type": "stream",
     "text": [
      "0\n",
      "2\n",
      "4\n",
      "6\n",
      "8\n",
      "10\n"
     ]
    }
   ],
   "source": [
    "num = 10\n",
    "count = 0\n",
    "while count <= num:\n",
    "    if count%2 == 0:\n",
    "        print(count)\n",
    "    count = count + 1"
   ]
  },
  {
   "cell_type": "code",
   "execution_count": 10,
   "id": "97b2234a",
   "metadata": {},
   "outputs": [
    {
     "name": "stdout",
     "output_type": "stream",
     "text": [
      "0\n",
      "2\n",
      "4\n",
      "6\n",
      "8\n",
      "10\n",
      "12\n",
      "14\n",
      "16\n",
      "18\n"
     ]
    }
   ],
   "source": [
    "for i in range(0,20,2):\n",
    "    pass\n",
    "    print(i)"
   ]
  },
  {
   "cell_type": "code",
   "execution_count": 11,
   "id": "5f0854c3",
   "metadata": {},
   "outputs": [],
   "source": [
    "for i in range(0,20,2):\n",
    "    continue\n",
    "    print(i)"
   ]
  },
  {
   "cell_type": "code",
   "execution_count": null,
   "id": "de5a347c",
   "metadata": {},
   "outputs": [],
   "source": [
    "for i in range(0,20,2):\n",
    "    break\n",
    "    print(i)\n",
    "    "
   ]
  },
  {
   "cell_type": "code",
   "execution_count": 12,
   "id": "4a4cd070",
   "metadata": {},
   "outputs": [
    {
     "name": "stdout",
     "output_type": "stream",
     "text": [
      "0\n",
      "1\n",
      "2\n",
      "3\n",
      "4\n",
      "5\n"
     ]
    }
   ],
   "source": [
    "for i in range(0,15):\n",
    "    if i<=5:\n",
    "        print(i)\n",
    "    pass"
   ]
  },
  {
   "cell_type": "code",
   "execution_count": 13,
   "id": "d7049186",
   "metadata": {},
   "outputs": [
    {
     "name": "stdout",
     "output_type": "stream",
     "text": [
      "0\n",
      "1\n",
      "2\n",
      "3\n",
      "4\n",
      "5\n"
     ]
    }
   ],
   "source": [
    "for i in range(0,15):\n",
    "    if i<=5:\n",
    "        print(i)\n",
    "    continue"
   ]
  },
  {
   "cell_type": "code",
   "execution_count": 14,
   "id": "ed75478d",
   "metadata": {},
   "outputs": [
    {
     "name": "stdout",
     "output_type": "stream",
     "text": [
      "0\n"
     ]
    }
   ],
   "source": [
    "for i in range(0,15):\n",
    "    if i<=5:\n",
    "        print(i)\n",
    "    break"
   ]
  },
  {
   "cell_type": "code",
   "execution_count": 18,
   "id": "edc32d5e",
   "metadata": {},
   "outputs": [
    {
     "name": "stdout",
     "output_type": "stream",
     "text": [
      "0\n"
     ]
    }
   ],
   "source": [
    "for i in range(0,15):\n",
    "    if i<=5:\n",
    "        print(i)\n",
    "    pass\n",
    "    break\n",
    " "
   ]
  },
  {
   "cell_type": "code",
   "execution_count": 19,
   "id": "8c108d55",
   "metadata": {},
   "outputs": [
    {
     "name": "stdout",
     "output_type": "stream",
     "text": [
      "0\n"
     ]
    }
   ],
   "source": [
    "for i in range(0,15):\n",
    "    if i<=5:\n",
    "        print(i)\n",
    "    break\n",
    "    continue\n",
    " "
   ]
  },
  {
   "cell_type": "code",
   "execution_count": 20,
   "id": "50fdf75b",
   "metadata": {},
   "outputs": [
    {
     "name": "stdout",
     "output_type": "stream",
     "text": [
      "0\n"
     ]
    }
   ],
   "source": [
    "for i in range(0,15):\n",
    "    if i<=5:\n",
    "        print(i)\n",
    "    break\n",
    "    pass\n",
    " "
   ]
  },
  {
   "cell_type": "code",
   "execution_count": 22,
   "id": "6e80b469",
   "metadata": {},
   "outputs": [
    {
     "name": "stdout",
     "output_type": "stream",
     "text": [
      "0\n",
      "10\n",
      "0\n",
      "11\n",
      "0\n",
      "12\n",
      "0\n",
      "13\n",
      "0\n",
      "14\n",
      "0\n",
      "15\n",
      "0\n",
      "16\n",
      "0\n",
      "17\n",
      "0\n",
      "18\n",
      "0\n",
      "19\n",
      "1\n",
      "10\n",
      "1\n",
      "11\n",
      "1\n",
      "12\n",
      "1\n",
      "13\n",
      "1\n",
      "14\n",
      "1\n",
      "15\n",
      "1\n",
      "16\n",
      "1\n",
      "17\n",
      "1\n",
      "18\n",
      "1\n",
      "19\n",
      "2\n",
      "10\n",
      "2\n",
      "11\n",
      "2\n",
      "12\n",
      "2\n",
      "13\n",
      "2\n",
      "14\n",
      "2\n",
      "15\n",
      "2\n",
      "16\n",
      "2\n",
      "17\n",
      "2\n",
      "18\n",
      "2\n",
      "19\n",
      "3\n",
      "10\n",
      "3\n",
      "11\n",
      "3\n",
      "12\n",
      "3\n",
      "13\n",
      "3\n",
      "14\n",
      "3\n",
      "15\n",
      "3\n",
      "16\n",
      "3\n",
      "17\n",
      "3\n",
      "18\n",
      "3\n",
      "19\n",
      "4\n",
      "10\n",
      "4\n",
      "11\n",
      "4\n",
      "12\n",
      "4\n",
      "13\n",
      "4\n",
      "14\n",
      "4\n",
      "15\n",
      "4\n",
      "16\n",
      "4\n",
      "17\n",
      "4\n",
      "18\n",
      "4\n",
      "19\n",
      "5\n",
      "10\n",
      "5\n",
      "11\n",
      "5\n",
      "12\n",
      "5\n",
      "13\n",
      "5\n",
      "14\n",
      "5\n",
      "15\n",
      "5\n",
      "16\n",
      "5\n",
      "17\n",
      "5\n",
      "18\n",
      "5\n",
      "19\n",
      "6\n",
      "10\n",
      "6\n",
      "11\n",
      "6\n",
      "12\n",
      "6\n",
      "13\n",
      "6\n",
      "14\n",
      "6\n",
      "15\n",
      "6\n",
      "16\n",
      "6\n",
      "17\n",
      "6\n",
      "18\n",
      "6\n",
      "19\n",
      "7\n",
      "10\n",
      "7\n",
      "11\n",
      "7\n",
      "12\n",
      "7\n",
      "13\n",
      "7\n",
      "14\n",
      "7\n",
      "15\n",
      "7\n",
      "16\n",
      "7\n",
      "17\n",
      "7\n",
      "18\n",
      "7\n",
      "19\n",
      "8\n",
      "10\n",
      "8\n",
      "11\n",
      "8\n",
      "12\n",
      "8\n",
      "13\n",
      "8\n",
      "14\n",
      "8\n",
      "15\n",
      "8\n",
      "16\n",
      "8\n",
      "17\n",
      "8\n",
      "18\n",
      "8\n",
      "19\n",
      "9\n",
      "10\n",
      "9\n",
      "11\n",
      "9\n",
      "12\n",
      "9\n",
      "13\n",
      "9\n",
      "14\n",
      "9\n",
      "15\n",
      "9\n",
      "16\n",
      "9\n",
      "17\n",
      "9\n",
      "18\n",
      "9\n",
      "19\n"
     ]
    }
   ],
   "source": [
    "for i in range(0,10):\n",
    "    for j in range(10,20):\n",
    "        print(i)\n",
    "        print(j)\n",
    "        "
   ]
  },
  {
   "cell_type": "code",
   "execution_count": 1,
   "id": "ca4c0604",
   "metadata": {},
   "outputs": [
    {
     "name": "stdout",
     "output_type": "stream",
     "text": [
      "Check the entered choice\n"
     ]
    }
   ],
   "source": [
    "''' \n",
    "num1\n",
    "num2\n",
    "choice = +,-,*,/\n",
    "\n",
    "num1 =\n",
    "num2 =\n",
    "choice =\n",
    "\n",
    "if choice == '+':\n",
    "   addition\n",
    "if choice == '-':\n",
    "   substraction\n",
    "\n",
    "else:\n",
    "   check the entered choice\n",
    "\n",
    "'''\n",
    "\n",
    "num1 = float(input('Enter the num1: '))\n",
    "num2 = float(input('Enter the num2: '))\n",
    "choice = input('Select operator +,-,*,/: ')\n",
    "\n",
    "if choice =='+':\n",
    "   num3 = num1+num2\n",
    "   print(f'Addition of {num1} and {num2}:',num3)\n",
    "\n",
    "elif choice == '-':\n",
    "   num3 = num1-num2\n",
    "   print(f'Substraction of {num1} and {num2}:',num3)\n",
    "\n",
    "else:\n",
    "   print('Check the entered choice')\n",
    "\n"
   ]
  },
  {
   "cell_type": "code",
   "execution_count": 4,
   "id": "e1f0b5d1",
   "metadata": {},
   "outputs": [
    {
     "name": "stdout",
     "output_type": "stream",
     "text": [
      "[0]\n",
      "[0, 1]\n",
      "[0, 1, 4]\n",
      "[0, 1, 4, 9]\n",
      "[0, 1, 4, 9, 16]\n",
      "[0, 1, 4, 9, 16, 25]\n",
      "[0, 1, 4, 9, 16, 25, 36]\n",
      "[0, 1, 4, 9, 16, 25, 36, 49]\n",
      "[0, 1, 4, 9, 16, 25, 36, 49, 64]\n",
      "[0, 1, 4, 9, 16, 25, 36, 49, 64, 81]\n"
     ]
    }
   ],
   "source": [
    "# for loop\n",
    "list = []\n",
    "for i in range(0,10):\n",
    "    list.append(i*i)\n",
    "    print(list)"
   ]
  },
  {
   "cell_type": "code",
   "execution_count": 7,
   "id": "ce45d8a0",
   "metadata": {},
   "outputs": [
    {
     "data": {
      "text/plain": [
       "[0, 1, 4, 9, 16, 25, 36, 49, 64, 81]"
      ]
     },
     "execution_count": 7,
     "metadata": {},
     "output_type": "execute_result"
    }
   ],
   "source": [
    "# List Comprehnsion\n",
    "# variable = [expression for count in range(x1,x2)]\n",
    "square = [i*i for i in range(0,10)]\n",
    "square"
   ]
  },
  {
   "cell_type": "code",
   "execution_count": 8,
   "id": "c151a286",
   "metadata": {},
   "outputs": [
    {
     "data": {
      "text/plain": [
       "[False, True, False, True, False, True, False, True, False, True]"
      ]
     },
     "execution_count": 8,
     "metadata": {},
     "output_type": "execute_result"
    }
   ],
   "source": [
    "odd = [i%2 == 1 for i in range(0,10)]\n",
    "odd"
   ]
  },
  {
   "cell_type": "code",
   "execution_count": 12,
   "id": "be0b214e",
   "metadata": {},
   "outputs": [
    {
     "data": {
      "text/plain": [
       "[0, 1, 4, 9, 16, 25, 36, 49, 64, 81]"
      ]
     },
     "execution_count": 12,
     "metadata": {},
     "output_type": "execute_result"
    }
   ],
   "source": [
    "square = [i**2 for i in range(0,10)]\n",
    "square"
   ]
  },
  {
   "cell_type": "code",
   "execution_count": 14,
   "id": "be2906ca",
   "metadata": {},
   "outputs": [
    {
     "data": {
      "text/plain": [
       "['ANIKET', 'PARAG', 'AJAY', 'TANVI', 'MIHIR', 'NIKHIL']"
      ]
     },
     "execution_count": 14,
     "metadata": {},
     "output_type": "execute_result"
    }
   ],
   "source": [
    "lst = ['Aniket','Parag','Ajay','Tanvi','Mihir','Nikhil']\n",
    "new_list = [lst.upper() for lst in lst]\n",
    "new_list"
   ]
  },
  {
   "cell_type": "code",
   "execution_count": 15,
   "id": "16bfd48d",
   "metadata": {},
   "outputs": [
    {
     "data": {
      "text/plain": [
       "['aniket', 'parag', 'ajay', 'tanvi', 'mihir', 'nikhil']"
      ]
     },
     "execution_count": 15,
     "metadata": {},
     "output_type": "execute_result"
    }
   ],
   "source": [
    "new_list = [lst.lower() for lst in lst]\n",
    "new_list"
   ]
  },
  {
   "cell_type": "code",
   "execution_count": 16,
   "id": "a2597986",
   "metadata": {},
   "outputs": [
    {
     "data": {
      "text/plain": [
       "[6, 5, 4, 5, 5, 6]"
      ]
     },
     "execution_count": 16,
     "metadata": {},
     "output_type": "execute_result"
    }
   ],
   "source": [
    "new_list = [len(lst) for lst in lst ]\n",
    "new_list"
   ]
  },
  {
   "cell_type": "code",
   "execution_count": 20,
   "id": "25189f51",
   "metadata": {},
   "outputs": [
    {
     "data": {
      "text/plain": [
       "31"
      ]
     },
     "execution_count": 20,
     "metadata": {},
     "output_type": "execute_result"
    }
   ],
   "source": [
    "new_list = sum(len(lst) for lst in lst)\n",
    "new_list"
   ]
  },
  {
   "cell_type": "code",
   "execution_count": 21,
   "id": "78eadcf8",
   "metadata": {},
   "outputs": [
    {
     "data": {
      "text/plain": [
       "4"
      ]
     },
     "execution_count": 21,
     "metadata": {},
     "output_type": "execute_result"
    }
   ],
   "source": [
    "new_list = min(len(lst) for lst in lst)\n",
    "new_list"
   ]
  },
  {
   "cell_type": "code",
   "execution_count": 22,
   "id": "83ca9b7c",
   "metadata": {},
   "outputs": [
    {
     "data": {
      "text/plain": [
       "6"
      ]
     },
     "execution_count": 22,
     "metadata": {},
     "output_type": "execute_result"
    }
   ],
   "source": [
    "new_list = max(len(lst) for lst in lst)\n",
    "new_list"
   ]
  },
  {
   "cell_type": "code",
   "execution_count": 23,
   "id": "e8e16685",
   "metadata": {},
   "outputs": [
    {
     "data": {
      "text/plain": [
       "20"
      ]
     },
     "execution_count": 23,
     "metadata": {},
     "output_type": "execute_result"
    }
   ],
   "source": [
    "# logic: 0 2 4 6 8 :  sum : 20\n",
    "n = sum([x for x in range(0,10) if x % 2 == 0])\n",
    "n\n"
   ]
  },
  {
   "cell_type": "code",
   "execution_count": 27,
   "id": "a117ae01",
   "metadata": {},
   "outputs": [
    {
     "data": {
      "text/plain": [
       "25"
      ]
     },
     "execution_count": 27,
     "metadata": {},
     "output_type": "execute_result"
    }
   ],
   "source": [
    "# logic: 0 1 3 5 7 9 :  sum : 25\n",
    "n = sum([x for x in range(0,10) if x % 2 != 0])\n",
    "n\n"
   ]
  },
  {
   "cell_type": "code",
   "execution_count": 6,
   "id": "66ba5338",
   "metadata": {},
   "outputs": [
    {
     "data": {
      "text/plain": [
       "120"
      ]
     },
     "execution_count": 6,
     "metadata": {},
     "output_type": "execute_result"
    }
   ],
   "source": [
    "# 5! = 5*4*3*2*1* ---> 120\n",
    "import math\n",
    "math.factorial(5)"
   ]
  },
  {
   "cell_type": "code",
   "execution_count": 7,
   "id": "0966a7b6",
   "metadata": {},
   "outputs": [
    {
     "name": "stdout",
     "output_type": "stream",
     "text": [
      "2.23606797749979\n",
      "2.23606797749979\n"
     ]
    }
   ],
   "source": [
    "# Square root\n",
    "print(5**0.5)\n",
    "print(math.sqrt(5))"
   ]
  },
  {
   "cell_type": "code",
   "execution_count": 8,
   "id": "a0348348",
   "metadata": {},
   "outputs": [
    {
     "data": {
      "text/plain": [
       "4.0"
      ]
     },
     "execution_count": 8,
     "metadata": {},
     "output_type": "execute_result"
    }
   ],
   "source": [
    "# Power function\n",
    "math.pow(2,2)"
   ]
  },
  {
   "cell_type": "code",
   "execution_count": 9,
   "id": "e9d58fe5",
   "metadata": {},
   "outputs": [
    {
     "data": {
      "text/plain": [
       "32.0"
      ]
     },
     "execution_count": 9,
     "metadata": {},
     "output_type": "execute_result"
    }
   ],
   "source": [
    "math.pow(2,5)"
   ]
  },
  {
   "cell_type": "code",
   "execution_count": 10,
   "id": "f289deb1",
   "metadata": {},
   "outputs": [
    {
     "data": {
      "text/plain": [
       "3125.0"
      ]
     },
     "execution_count": 10,
     "metadata": {},
     "output_type": "execute_result"
    }
   ],
   "source": [
    "math.pow(5,5)"
   ]
  },
  {
   "cell_type": "code",
   "execution_count": 11,
   "id": "f18f23e3",
   "metadata": {},
   "outputs": [
    {
     "name": "stdout",
     "output_type": "stream",
     "text": [
      "0.6989700043360189\n"
     ]
    }
   ],
   "source": [
    "print(math.log10(5))"
   ]
  },
  {
   "cell_type": "code",
   "execution_count": 1,
   "id": "4d3f02ef",
   "metadata": {},
   "outputs": [
    {
     "data": {
      "text/plain": [
       "120"
      ]
     },
     "execution_count": 1,
     "metadata": {},
     "output_type": "execute_result"
    }
   ],
   "source": [
    "# Recurssive function \n",
    "# 5! =5*4*3*2*1 = 120\n",
    "\n",
    "def factorial(n):\n",
    "    if n == 0 or n == 1:\n",
    "        return 1 # base case\n",
    "    else:\n",
    "        return n * factorial(n-1)\n",
    "factorial(5)"
   ]
  },
  {
   "cell_type": "code",
   "execution_count": 2,
   "id": "23080b88",
   "metadata": {},
   "outputs": [],
   "source": [
    "# Functions and Modules in Python Programming\n",
    "# function is used for reusibility\n",
    "\n",
    "import math\n",
    "import os\n",
    "import datetime"
   ]
  },
  {
   "cell_type": "code",
   "execution_count": 3,
   "id": "bb09b5f8",
   "metadata": {},
   "outputs": [
    {
     "name": "stdout",
     "output_type": "stream",
     "text": [
      "Hello World\n"
     ]
    }
   ],
   "source": [
    "# define function\n",
    "\n",
    "def sum():  # sum() function definition\n",
    "    print('Hello World')\n",
    "\n",
    "ans = sum() # sum() function calling and storing in variable ans"
   ]
  },
  {
   "cell_type": "code",
   "execution_count": 4,
   "id": "88a94ba9",
   "metadata": {},
   "outputs": [
    {
     "name": "stdout",
     "output_type": "stream",
     "text": [
      "300\n"
     ]
    }
   ],
   "source": [
    "def sum(num1,num2):\n",
    "    num3 = num1 + num2\n",
    "    print(num3)\n",
    "\n",
    "ans = sum(100,200)"
   ]
  },
  {
   "cell_type": "code",
   "execution_count": 5,
   "id": "7b21b801",
   "metadata": {},
   "outputs": [
    {
     "name": "stdout",
     "output_type": "stream",
     "text": [
      "The addition of two numbers 100 and 200 is 300\n"
     ]
    }
   ],
   "source": [
    "def sum(num1,num2):\n",
    "    num3 = num1 + num2\n",
    "    print(f'The addition of two numbers {num1} and {num2} is',num3)\n",
    "\n",
    "ans = sum(100,200)"
   ]
  },
  {
   "cell_type": "code",
   "execution_count": 6,
   "id": "51baf9ec",
   "metadata": {},
   "outputs": [
    {
     "name": "stdout",
     "output_type": "stream",
     "text": [
      "The addition of two numbers 10.0 and 2.0 is 12.0\n",
      "The multiplication of two numbers 10.0 and 2.0 is 20.0\n",
      "The substraction of two numbers 10.0 and 2.0 is 8.0\n",
      "The division of two numbers 10.0 and 2.0 is 5.0\n",
      "The modulus of two numbers 10.0 and 2.0 is 0.0\n"
     ]
    }
   ],
   "source": [
    "num1=float(input('Enter the First number:'))\n",
    "num2=float(input('Enter the Second number:'))\n",
    "\n",
    "def sum(num1,num2):\n",
    "    num3 = num1 + num2\n",
    "    print(f'The addition of two numbers {num1} and {num2} is',num3)\n",
    "\n",
    "def mul(num1,num2):\n",
    "    num3 = num1 * num2\n",
    "    print(f'The multiplication of two numbers {num1} and {num2} is',num3)\n",
    "\n",
    "def sub(num1,num2):\n",
    "    num3 = num1 - num2\n",
    "    print(f'The substraction of two numbers {num1} and {num2} is',num3)\n",
    "\n",
    "def div(num1,num2):\n",
    "    num3 = num1 / num2\n",
    "    print(f'The division of two numbers {num1} and {num2} is',num3)\n",
    "\n",
    "def mod(num1,num2):\n",
    "    num3 = num1 % num2\n",
    "    print(f'The modulus of two numbers {num1} and {num2} is',num3)\n",
    "\n",
    "\n",
    "addition = sum(num1,num2)\n",
    "multiplication = mul(num1,num2)\n",
    "substraction = sub(num1,num2)\n",
    "division = div(num1,num2)\n",
    "modulus = mod(num1,num2)"
   ]
  },
  {
   "cell_type": "code",
   "execution_count": 7,
   "id": "2c9cf588",
   "metadata": {},
   "outputs": [
    {
     "name": "stdout",
     "output_type": "stream",
     "text": [
      "The addition of two numbers 10.0 and 2.0 is 12.0\n",
      "The multiplication of two numbers 10.0 and 2.0 is 20.0\n",
      "The substraction of two numbers 10.0 and 2.0 is 8.0\n",
      "The division of two numbers 10.0 and 2.0 is 5.0\n",
      "The modulus of two numbers 10.0 and 2.0 is 0.0\n"
     ]
    }
   ],
   "source": [
    "num1=float(input('Enter the First number:'))\n",
    "num2=float(input('Enter the Second number:'))\n",
    "\n",
    "def sum(num1,num2):\n",
    "    num3 = num1 + num2\n",
    "    print(f'The addition of two numbers {num1} and {num2} is',num3)\n",
    "    return num3\n",
    "\n",
    "def mul(num1,num2):\n",
    "    num4 = num1 * num2\n",
    "    print(f'The multiplication of two numbers {num1} and {num2} is',num4)\n",
    "    return num4\n",
    "\n",
    "def sub(num1,num2):\n",
    "    num5 = num1 - num2\n",
    "    print(f'The substraction of two numbers {num1} and {num2} is',num5)\n",
    "    return num5\n",
    "\n",
    "def div(num1,num2):\n",
    "    num6 = num1 / num2\n",
    "    print(f'The division of two numbers {num1} and {num2} is',num6)\n",
    "    return num6\n",
    "\n",
    "def mod(num1,num2):\n",
    "    num7 = num1 % num2\n",
    "    print(f'The modulus of two numbers {num1} and {num2} is',num7)\n",
    "    return num7\n",
    "\n",
    "\n",
    "addition = sum(num1,num2)\n",
    "multiplication = mul(num1,num2)\n",
    "substraction = sub(num1,num2)\n",
    "division = div(num1,num2)\n",
    "modulus = mod(num1,num2)"
   ]
  },
  {
   "cell_type": "code",
   "execution_count": 8,
   "id": "22104674",
   "metadata": {},
   "outputs": [
    {
     "data": {
      "text/plain": [
       "12.0"
      ]
     },
     "execution_count": 8,
     "metadata": {},
     "output_type": "execute_result"
    }
   ],
   "source": [
    "addition"
   ]
  },
  {
   "cell_type": "code",
   "execution_count": 9,
   "id": "bd5f6bcc",
   "metadata": {},
   "outputs": [
    {
     "data": {
      "text/plain": [
       "8.0"
      ]
     },
     "execution_count": 9,
     "metadata": {},
     "output_type": "execute_result"
    }
   ],
   "source": [
    "substraction"
   ]
  },
  {
   "cell_type": "code",
   "execution_count": 10,
   "id": "dcfbfe1a",
   "metadata": {},
   "outputs": [
    {
     "data": {
      "text/plain": [
       "20.0"
      ]
     },
     "execution_count": 10,
     "metadata": {},
     "output_type": "execute_result"
    }
   ],
   "source": [
    "multiplication"
   ]
  },
  {
   "cell_type": "code",
   "execution_count": 11,
   "id": "082811c1",
   "metadata": {},
   "outputs": [
    {
     "data": {
      "text/plain": [
       "5.0"
      ]
     },
     "execution_count": 11,
     "metadata": {},
     "output_type": "execute_result"
    }
   ],
   "source": [
    "division"
   ]
  },
  {
   "cell_type": "code",
   "execution_count": 12,
   "id": "b44a1bf0",
   "metadata": {},
   "outputs": [
    {
     "data": {
      "text/plain": [
       "0.0"
      ]
     },
     "execution_count": 12,
     "metadata": {},
     "output_type": "execute_result"
    }
   ],
   "source": [
    "modulus"
   ]
  },
  {
   "cell_type": "code",
   "execution_count": 13,
   "id": "6403800d",
   "metadata": {},
   "outputs": [
    {
     "name": "stdout",
     "output_type": "stream",
     "text": [
      "The given string is not a Palindrom.\n"
     ]
    }
   ],
   "source": [
    "'''  \n",
    "Palindrom:\n",
    "mom = mom\n",
    "\n",
    "'''\n",
    "\n",
    "text = input('Enter the String: ')\n",
    "text1 = text[::-1]\n",
    "\n",
    "def pal(text):\n",
    "    if text == text1:\n",
    "        print('The given string is Palindrom.')\n",
    "    else:\n",
    "        print('The given string is not a Palindrom.')\n",
    "\n",
    "\n",
    "pal(text)"
   ]
  },
  {
   "cell_type": "code",
   "execution_count": 14,
   "id": "e4f03d86",
   "metadata": {},
   "outputs": [
    {
     "name": "stdout",
     "output_type": "stream",
     "text": [
      "New Balance is 4000.0\n"
     ]
    }
   ],
   "source": [
    "balance = 10000\n",
    "withdraw = float(input(\"Enter amount to withdraw: \"))\n",
    "threshold = 2000\n",
    "\n",
    "def trans(withdraw):\n",
    "        if withdraw >= balance:\n",
    "           print('Insufficient Balance')\n",
    "        if withdraw <= balance:\n",
    "            new_balance = balance - withdraw\n",
    "            if new_balance >= 2000:\n",
    "                 print('New Balance is', new_balance)\n",
    "        else :\n",
    "                     print('Check Your Transaction, Once Again')\n",
    "\n",
    "trans(withdraw)"
   ]
  },
  {
   "cell_type": "code",
   "execution_count": 15,
   "id": "9b1bbe4d",
   "metadata": {},
   "outputs": [
    {
     "data": {
      "text/plain": [
       "' \\nCGPA >= 8 : Bright\\nCGPA between 6.9 to 7.9: Moderate Student\\nCGPA < 6.8 : Week Student\\n\\n'"
      ]
     },
     "execution_count": 15,
     "metadata": {},
     "output_type": "execute_result"
    }
   ],
   "source": [
    "''' \n",
    "CGPA >= 8 : Bright\n",
    "CGPA between 6.9 to 7.9: Moderate Student\n",
    "CGPA < 6.8 : Week Student\n",
    "\n",
    "'''"
   ]
  },
  {
   "cell_type": "code",
   "execution_count": 17,
   "id": "1675434f",
   "metadata": {},
   "outputs": [
    {
     "name": "stdout",
     "output_type": "stream",
     "text": [
      "Week Student\n"
     ]
    }
   ],
   "source": [
    "CGPA = float(input('Enter the CGPA Of Student: '))\n",
    "\n",
    "def G(CGPA):\n",
    "    if CGPA >= 8 :\n",
    "        print('Bright Student')\n",
    "    elif 6.9 <= CGPA <= 7.9:\n",
    "        print('Moderate Student')\n",
    "    else:\n",
    "        print('Week Student')\n",
    "G(CGPA)\n",
    "    "
   ]
  },
  {
   "cell_type": "code",
   "execution_count": 18,
   "id": "22f2273c",
   "metadata": {},
   "outputs": [
    {
     "name": "stdout",
     "output_type": "stream",
     "text": [
      "Moderate Student\n"
     ]
    }
   ],
   "source": [
    "CGPA = float(input('Enter the CGPA Of Student: '))\n",
    "\n",
    "def G(CGPA):\n",
    "    if CGPA >= 8 :\n",
    "        print('Bright Student')\n",
    "    elif 6.9 <= CGPA <= 7.9:\n",
    "        print('Moderate Student')\n",
    "    else:\n",
    "        print('Week Student')\n",
    "G(CGPA)\n",
    "    "
   ]
  },
  {
   "cell_type": "code",
   "execution_count": 19,
   "id": "63909983",
   "metadata": {},
   "outputs": [
    {
     "name": "stdout",
     "output_type": "stream",
     "text": [
      "The given string is not a Palindrom.\n"
     ]
    }
   ],
   "source": [
    "'''  \n",
    "Palindrom:\n",
    "mom = mom\n",
    "\n",
    "'''\n",
    "\n",
    "text = input('Enter the String: ')\n",
    "\n",
    "\n",
    "def palindrom(text): # Defining Function\n",
    "    text1 = text[::-1]\n",
    "    if text == text1:\n",
    "        print('The given string is Palindrom.')\n",
    "    else:\n",
    "        print('The given string is not a Palindrom.')\n",
    "\n",
    "\n",
    "palindrom(text) # Calling a Function"
   ]
  },
  {
   "cell_type": "code",
   "execution_count": null,
   "id": "2562f132",
   "metadata": {},
   "outputs": [],
   "source": []
  },
  {
   "cell_type": "code",
   "execution_count": 20,
   "id": "f590ab0b",
   "metadata": {},
   "outputs": [
    {
     "name": "stdout",
     "output_type": "stream",
     "text": [
      "<class 'list'>\n"
     ]
    }
   ],
   "source": [
    "# OOP : Object Oriented Programming\n",
    "lst = [1,2,3]\n",
    "print(type(lst))"
   ]
  },
  {
   "cell_type": "code",
   "execution_count": 21,
   "id": "66d83a81",
   "metadata": {},
   "outputs": [
    {
     "data": {
      "text/plain": [
       "12345"
      ]
     },
     "execution_count": 21,
     "metadata": {},
     "output_type": "execute_result"
    }
   ],
   "source": [
    "# OOP : Object Oriented Programming\n",
    "\n",
    "class ClassName:\n",
    "    i = 12345\n",
    "\n",
    "x = ClassName()\n",
    "x.i"
   ]
  },
  {
   "cell_type": "code",
   "execution_count": 22,
   "id": "8eb3e1ca",
   "metadata": {},
   "outputs": [
    {
     "name": "stdout",
     "output_type": "stream",
     "text": [
      "10 + 10 j\n"
     ]
    }
   ],
   "source": [
    "class Complex:   # ClassName : Complex\n",
    "    def __init__(self,real,img):     # Constructor Method\n",
    "        self.r = real                # Attribute\n",
    "        self.i = img                 # Attribute\n",
    "\n",
    "x = Complex(10,10)   # x is an object of class Complex\n",
    "x.r   # Calling Attribute using Dot Operator with the help of Object x\n",
    "x.i   # Calling Attribute using Dot Operator with the help of Object x\n",
    "print(x.r,'+',x.i,'j')"
   ]
  },
  {
   "cell_type": "code",
   "execution_count": 23,
   "id": "3d943549",
   "metadata": {},
   "outputs": [
    {
     "data": {
      "text/plain": [
       "300"
      ]
     },
     "execution_count": 23,
     "metadata": {},
     "output_type": "execute_result"
    }
   ],
   "source": [
    "class Addition:\n",
    "    def __init__(self):\n",
    "        self.num1 = 100\n",
    "        self.num2 = 200\n",
    "\n",
    "    def sum(self):\n",
    "        num3 = self.num1 + self.num2\n",
    "        return num3\n",
    "\n",
    "a = Addition()\n",
    "a.sum()  # Output: 300"
   ]
  },
  {
   "cell_type": "code",
   "execution_count": null,
   "id": "7c864a5b",
   "metadata": {},
   "outputs": [],
   "source": [
    "''' \n",
    "balance = 10000\n",
    "withdraw = user\n",
    "threshold = 2000\n",
    "\n",
    "'''"
   ]
  },
  {
   "cell_type": "code",
   "execution_count": 1,
   "id": "759836c0",
   "metadata": {},
   "outputs": [
    {
     "name": "stdout",
     "output_type": "stream",
     "text": [
      "New Balance is 4000.0\n"
     ]
    }
   ],
   "source": [
    "class Bank:\n",
    "    def __init__(self):\n",
    "        self.balance = 10000\n",
    "        self.threshold = 2000\n",
    "\n",
    "    def trans(self):\n",
    "        withdraw_amount = float(input('Enter the withdraw amount: '))\n",
    "        if withdraw_amount > self.balance:\n",
    "            print('Insufficient Balance')\n",
    "        else:\n",
    "            new_balance = self.balance - withdraw_amount\n",
    "            if new_balance >= self.threshold:\n",
    "                print('New Balance is', new_balance)\n",
    "            else:\n",
    "                print('Check Your Transaction, Once Again')\n",
    "\n",
    "T = Bank()\n",
    "T.trans()"
   ]
  },
  {
   "cell_type": "code",
   "execution_count": 2,
   "id": "4e0cc836",
   "metadata": {},
   "outputs": [
    {
     "name": "stdout",
     "output_type": "stream",
     "text": [
      "Tesla Model S is starting...\n",
      "Tesla Model S is carging with 10000 KWh battery.\n",
      "Tesla Model S is stopping...\n",
      "Honda CRV is starting...\n",
      "Honda CRV is mileage with 30 Km/l fuel .\n",
      "Honda CRV is stopping...\n"
     ]
    }
   ],
   "source": [
    "# Concept of INHERITANCE\n",
    "# Parent class\n",
    "class Car:\n",
    "    def __init__(self,brand,model):\n",
    "        self.brand = brand\n",
    "        self.model = model\n",
    "    \n",
    "    def start(self):\n",
    "        print(f\"{self.brand} {self.model} is starting...\")\n",
    "\n",
    "    def stop(self):\n",
    "        print(f\"{self.brand} {self.model} is stopping...\")\n",
    "\n",
    "# Child class\n",
    "class ElectricCar(Car):\n",
    "    def __init__(self,brand,model,battery_capacity):\n",
    "        super().__init__(brand,model) # Inherit barnd and model\n",
    "        self.battery_capacity = battery_capacity\n",
    "\n",
    "    def charge(self):\n",
    "        print(f\"{self.brand} {self.model} is carging with {self.battery_capacity} KWh battery.\")\n",
    "\n",
    "# Create an object of ElectricCar\n",
    "tesla = ElectricCar(\"Tesla\",\"Model S\",10000)\n",
    "tesla.start()\n",
    "tesla.charge()\n",
    "tesla.stop()\n",
    "\n",
    "# Child class\n",
    "class PetrolCar(Car):\n",
    "    def __init__(self,brand,model,mileage):\n",
    "        super().__init__(brand,model) # Inherit barnd and model\n",
    "        self.mileage = mileage\n",
    "\n",
    "    def Detail(self):\n",
    "        print(f\"{self.brand} {self.model} is mileage with {self.mileage} Km/l fuel .\")\n",
    "\n",
    "honda = PetrolCar(\"Honda\",\"CRV\",30)\n",
    "honda.start()\n",
    "honda.Detail()\n",
    "honda.stop()"
   ]
  },
  {
   "cell_type": "code",
   "execution_count": 1,
   "id": "ee729d8f",
   "metadata": {},
   "outputs": [
    {
     "name": "stdout",
     "output_type": "stream",
     "text": [
      " Name: Swaru Raje\n",
      " Age: 16\n",
      " Sex: Male\n",
      "Mobile number: 8934590901\n",
      " Name: Mangal Pande\n",
      " Age: 21\n",
      " Sex: Male\n",
      "Mobile number: 7000980989\n"
     ]
    }
   ],
   "source": [
    "class Institution:\n",
    "    def __init__(self,first_name,last_name,age,sex,mobile_number):\n",
    "        self.first_name = first_name\n",
    "        self.last_name = last_name\n",
    "        self.age = age\n",
    "        self.sex = sex\n",
    "        self.mobile_number = mobile_number\n",
    "\n",
    "    def details(self):\n",
    "        print(f\" Name: {self.first_name} {self.last_name}\")\n",
    "        print(f\" Age: {self.age}\")\n",
    "        print(f\" Sex: {self.sex}\")\n",
    "        print(f\"Mobile number: {self.mobile_number}\")\n",
    "\n",
    "class students(Institution):\n",
    "    def __init__(self, first_name, last_name, age, sex, mobile_number,Division):\n",
    "        super().__init__(first_name, last_name, age, sex, mobile_number)\n",
    "        self.Division = Division\n",
    "\n",
    "class faculty(Institution):\n",
    "    def __init__(self, first_name, last_name, age, sex, mobile_number,experience):\n",
    "        super().__init__(first_name, last_name, age, sex, mobile_number)\n",
    "        self.experience = experience\n",
    "\n",
    "X = students('Swaru','Raje',16,'Male', 8934590901,'Sr.Data-Engineer')\n",
    "Y = faculty('Mangal','Pande',21,'Male',7000980989,11)\n",
    "X.details()\n",
    "Y.details()"
   ]
  },
  {
   "cell_type": "code",
   "execution_count": 3,
   "id": "67d110d6",
   "metadata": {},
   "outputs": [],
   "source": [
    "# Parent Class\n",
    "class Car:\n",
    "    # Function\n",
    "    def start_engine(self):\n",
    "        print(\"Starting engine...\")\n",
    "\n",
    "\n",
    "# Child Class\n",
    "class ElectricCar(Car):\n",
    "    def start_engine(self):\n",
    "        print(\"Starting silent electric engine...\")\n",
    "\n",
    "\n",
    "# Child Class\n",
    "class PetrolCar(Car):\n",
    "    def Start_engine(self):\n",
    "        print(\"Starting petrol engine with sound...\")\n",
    "        "
   ]
  },
  {
   "cell_type": "code",
   "execution_count": 4,
   "id": "96229338",
   "metadata": {},
   "outputs": [],
   "source": [
    "object1 = Car()           # Object is defined with Parent Class\n",
    "object2 = ElectricCar()   # Object is defined with Child Class\n",
    "object3 = PetrolCar()     # Object is defined with Child Class"
   ]
  },
  {
   "cell_type": "code",
   "execution_count": 5,
   "id": "11626954",
   "metadata": {},
   "outputs": [
    {
     "name": "stdout",
     "output_type": "stream",
     "text": [
      "Starting engine...\n"
     ]
    }
   ],
   "source": [
    "object1.start_engine()"
   ]
  },
  {
   "cell_type": "code",
   "execution_count": 6,
   "id": "ab2dc11b",
   "metadata": {},
   "outputs": [
    {
     "name": "stdout",
     "output_type": "stream",
     "text": [
      "Starting silent electric engine...\n"
     ]
    }
   ],
   "source": [
    "object2.start_engine()"
   ]
  },
  {
   "cell_type": "code",
   "execution_count": 7,
   "id": "08ea0bcd",
   "metadata": {},
   "outputs": [
    {
     "name": "stdout",
     "output_type": "stream",
     "text": [
      "Starting engine...\n"
     ]
    }
   ],
   "source": [
    "object3.start_engine()"
   ]
  },
  {
   "cell_type": "code",
   "execution_count": null,
   "id": "97fdffdb",
   "metadata": {},
   "outputs": [],
   "source": [
    "# Defining parent Class: Bank_Account\n",
    "\n",
    "class Bank_account:\n",
    "    # Defining special method: Contructor function\n",
    "    def __init__(self):\n",
    "        # Definig attribute inside Contructor function \n",
    "        self.first_name = input(\"Enter the first_name\")\n",
    "        self.last_name = input(\"Enter the last_name\")\n",
    "        self.age = input(\"Enter the age\")\n",
    "        self.sex = input(\"Enter the sex\")\n",
    "        self.mobile_number = int(input(\"Enter the mobile_number\"))\n",
    "    \n",
    "     # Definig method: details\n",
    "    def details(self): \n",
    "        print(f\"The First name is {self.first_name}\")\n",
    "        print(f\"The Last name is {self.last_name}\")\n",
    "        print(f\"The age is {self.age}\")\n",
    "        print(f\"The Sex is {self.sex}\")\n",
    "        print(f\"The Mobile No is {self.mobile_number}\")\n",
    "\n",
    "# Definig Child Class: Saving_account\n",
    "class Saving_account(Bank_account):\n",
    "    # Definig Method: intrest_rate\n",
    "    def intrest_rate(self):\n",
    "        return 5\n",
    "\n",
    "  # Definig Child Class: Current_account  \n",
    "class Current_account(Bank_account):\n",
    "    # Definig Method: intrest_rate\n",
    "    def intrest_rate(self):\n",
    "        return 0\n",
    "\n",
    "# Definig Child Class: Pension_account    \n",
    "class Pension_account(Bank_account):\n",
    "    # Definig Method: intrest_rate\n",
    "    def intrest_rate(self):\n",
    "        return 3\n",
    "\n",
    " # Definig Child Class: NRI_account   \n",
    "class NRI_account(Bank_account):\n",
    "    # Definig Method: intrest_rate\n",
    "    def intrest_rate(self):\n",
    "        return 1\n",
    "\n",
    "# Definig Object\n",
    "Nikhil = Saving_account()\n",
    "Parag = Current_account()\n",
    "Mihir = Pension_account()\n",
    "Disha = NRI_account()\n",
    "Tanvi = Saving_account()\n",
    "Hemangi = Current_account()\n",
    "Ajay = Pension_account()\n",
    "Aniket = NRI_account()\n"
   ]
  },
  {
   "cell_type": "code",
   "execution_count": 2,
   "id": "a41d91ad",
   "metadata": {},
   "outputs": [
    {
     "name": "stdout",
     "output_type": "stream",
     "text": [
      "The First name is Nikhil\n",
      "The Last name is asdef\n",
      "The age is 27\n",
      "The Sex is Male\n",
      "The Mobile No is 9876543210\n"
     ]
    },
    {
     "data": {
      "text/plain": [
       "5"
      ]
     },
     "execution_count": 2,
     "metadata": {},
     "output_type": "execute_result"
    }
   ],
   "source": [
    "Nikhil.details()\n",
    "Nikhil.intrest_rate()"
   ]
  },
  {
   "cell_type": "code",
   "execution_count": 3,
   "id": "306f98d8",
   "metadata": {},
   "outputs": [
    {
     "name": "stdout",
     "output_type": "stream",
     "text": [
      "The First name is Parag\n",
      "The Last name is nbhgfgh\n",
      "The age is 31\n",
      "The Sex is Male\n",
      "The Mobile No is 7865432109\n"
     ]
    },
    {
     "data": {
      "text/plain": [
       "0"
      ]
     },
     "execution_count": 3,
     "metadata": {},
     "output_type": "execute_result"
    }
   ],
   "source": [
    "Parag.details()\n",
    "Parag.intrest_rate()"
   ]
  },
  {
   "cell_type": "code",
   "execution_count": 4,
   "id": "375208b4",
   "metadata": {},
   "outputs": [
    {
     "name": "stdout",
     "output_type": "stream",
     "text": [
      "The First name is Mihir\n",
      "The Last name is tytesdgty\n",
      "The age is 24\n",
      "The Sex is Male\n",
      "The Mobile No is 7865094322\n"
     ]
    },
    {
     "data": {
      "text/plain": [
       "3"
      ]
     },
     "execution_count": 4,
     "metadata": {},
     "output_type": "execute_result"
    }
   ],
   "source": [
    "Mihir.details()\n",
    "Mihir.intrest_rate()"
   ]
  },
  {
   "cell_type": "code",
   "execution_count": 5,
   "id": "d0ceb731",
   "metadata": {},
   "outputs": [
    {
     "name": "stdout",
     "output_type": "stream",
     "text": [
      "The First name is Disha\n",
      "The Last name is aswewd\n",
      "The age is 22\n",
      "The Sex is Female\n",
      "The Mobile No is 7908564321\n"
     ]
    },
    {
     "data": {
      "text/plain": [
       "1"
      ]
     },
     "execution_count": 5,
     "metadata": {},
     "output_type": "execute_result"
    }
   ],
   "source": [
    "Disha.details()\n",
    "Disha.intrest_rate()"
   ]
  },
  {
   "cell_type": "code",
   "execution_count": 6,
   "id": "6a6a79b0",
   "metadata": {},
   "outputs": [
    {
     "name": "stdout",
     "output_type": "stream",
     "text": [
      "The First name is Tanvi\n",
      "The Last name is ryrheg\n",
      "The age is 23\n",
      "The Sex is Female\n",
      "The Mobile No is 7089652431\n"
     ]
    },
    {
     "data": {
      "text/plain": [
       "5"
      ]
     },
     "execution_count": 6,
     "metadata": {},
     "output_type": "execute_result"
    }
   ],
   "source": [
    "Tanvi.details()\n",
    "Tanvi.intrest_rate()"
   ]
  },
  {
   "cell_type": "code",
   "execution_count": 7,
   "id": "7571d2a8",
   "metadata": {},
   "outputs": [
    {
     "name": "stdout",
     "output_type": "stream",
     "text": [
      "The First name is Hemangi\n",
      "The Last name is khiytbjj\n",
      "The age is 24\n",
      "The Sex is Female\n",
      "The Mobile No is 8890576413\n"
     ]
    },
    {
     "data": {
      "text/plain": [
       "0"
      ]
     },
     "execution_count": 7,
     "metadata": {},
     "output_type": "execute_result"
    }
   ],
   "source": [
    "Hemangi.details()\n",
    "Hemangi.intrest_rate()"
   ]
  },
  {
   "cell_type": "code",
   "execution_count": 8,
   "id": "2cc80f0e",
   "metadata": {},
   "outputs": [
    {
     "name": "stdout",
     "output_type": "stream",
     "text": [
      "The First name is Ajay\n",
      "The Last name is ewrtfg\n",
      "The age is 24\n",
      "The Sex is Male\n",
      "The Mobile No is 9908475135\n"
     ]
    },
    {
     "data": {
      "text/plain": [
       "3"
      ]
     },
     "execution_count": 8,
     "metadata": {},
     "output_type": "execute_result"
    }
   ],
   "source": [
    "Ajay.details()\n",
    "Ajay.intrest_rate()"
   ]
  },
  {
   "cell_type": "code",
   "execution_count": 9,
   "id": "56366b2d",
   "metadata": {},
   "outputs": [
    {
     "name": "stdout",
     "output_type": "stream",
     "text": [
      "The First name is Aniket \n",
      "The Last name is Chaudhari\n",
      "The age is 25\n",
      "The Sex is Male\n",
      "The Mobile No is 8967531494\n"
     ]
    },
    {
     "data": {
      "text/plain": [
       "1"
      ]
     },
     "execution_count": 9,
     "metadata": {},
     "output_type": "execute_result"
    }
   ],
   "source": [
    "Aniket.details()\n",
    "Aniket.intrest_rate()"
   ]
  },
  {
   "cell_type": "code",
   "execution_count": 10,
   "id": "a55064ff",
   "metadata": {},
   "outputs": [],
   "source": [
    "# Defining parent class:Transactions\n",
    "class Transaction:\n",
    "    # Defining special method: Constructor function\n",
    "    def __init__(self):\n",
    "        # Defining attributes inside constructor function  \n",
    "        self.Amount_debited = float(input('Enter the amount_debited'))\n",
    "        self.Amount_credited = float(input('Enter the amount credited'))\n",
    "        self.Amount_balance = 10000\n",
    "        self.Account_no = int(input('Enter the account no.'))\n",
    "\n",
    "    # Defining method: Acc_details\n",
    "    def Acc_details(self):\n",
    "        print(f'Enter the Account No: {self.Account_no}')\n",
    "        print(f'Balance Amount {self.Amount_balance}')\n",
    "        print(f'Enter the Debited Amount {self.Amount_debited}')\n",
    "        print(f'Enter the Credied Amount {self.Amount_credited}')\n",
    "\n",
    "# Defining Child Class:UPI\n",
    "class UPI(Transaction):\n",
    "    def Balance (self):\n",
    "        if self.Amount_debited < self.Amount_balance:\n",
    "            new_balance = self.Amount_credited + self.Amount_balance - self.Amount_debited     \n",
    "            print(f\"Account no {self.Account_no} having debited amount {self.Amount_debited}, amount credited {self.Amount_credited} So new balance = {new_balance}\")\n",
    "        else:\n",
    "            print(\"Insufficient Balance\")\n",
    "        \n",
    "        \n",
    "# Defining Child Class:Googlepay\n",
    "class Googlepay(Transaction):\n",
    "    def Balance (self):\n",
    "        if self.Amount_debited < self.Amount_balance:\n",
    "            new_balance = self.Amount_credited + self.Amount_balance - self.Amount_debited     \n",
    "            print(f\"Account no {self.Account_no} having debited amount {self.Amount_debited}, amount credited {self.Amount_credited} So new balance = {new_balance}\")\n",
    "        else:\n",
    "            print(\"Insufficient Balance\")\n",
    "    \n",
    "# Defining Child Class:Amazonpay\n",
    "class Amazonepay(Transaction):\n",
    "    def Balance (self):\n",
    "        if self.Amount_debited < self.Amount_balance:\n",
    "            new_balance = self.Amount_credited + self.Amount_balance - self.Amount_debited     \n",
    "            print(f\"Account no {self.Account_no} having debited amount {self.Amount_debited}, amount credited {self.Amount_credited} So new balance = {new_balance}\")\n",
    "        else:\n",
    "            print(\"Insufficient Balance\")\n",
    "\n",
    "# Defining Child Class:Phonepay\n",
    "class phonepay(Transaction):\n",
    "    def Balance (self):\n",
    "        if self.Amount_debited < self.Amount_balance:\n",
    "            new_balance = self.Amount_credited + self.Amount_balance - self.Amount_debited     \n",
    "            print(f\"Account no {self.Account_no} having debited amount {self.Amount_debited}, amount credited {self.Amount_credited} So new balance = {new_balance}\")\n",
    "        else:\n",
    "            print(\"Insufficient Balance\")\n",
    "\n",
    "# Defining Obiject\n",
    "A = UPI()\n",
    "B = Googlepay()\n",
    "C = Amazonepay()\n",
    "D = phonepay()"
   ]
  },
  {
   "cell_type": "code",
   "execution_count": 11,
   "id": "ae2d84b1",
   "metadata": {},
   "outputs": [
    {
     "name": "stdout",
     "output_type": "stream",
     "text": [
      "Account no 1234556 having debited amount 2000.0, amount credited 1000.0 So new balance = 9000.0\n",
      "Account no 8765 having debited amount 5000.0, amount credited 3000.0 So new balance = 8000.0\n",
      "Account no 98324 having debited amount 8000.0, amount credited 5000.0 So new balance = 7000.0\n",
      "Account no 45675634 having debited amount 6000.0, amount credited 1000.0 So new balance = 5000.0\n"
     ]
    }
   ],
   "source": [
    "A.Balance()\n",
    "B.Balance()\n",
    "C.Balance()\n",
    "D.Balance()"
   ]
  },
  {
   "cell_type": "code",
   "execution_count": 1,
   "id": "dc94953f-e37d-4e26-8ffe-f5db6c849227",
   "metadata": {},
   "outputs": [
    {
     "name": "stdout",
     "output_type": "stream",
     "text": [
      "<class 'list'>\n"
     ]
    }
   ],
   "source": [
    "# 1D Array\n",
    "arr = [1,2,3,4,5]\n",
    "print(type(arr))"
   ]
  },
  {
   "cell_type": "code",
   "execution_count": 2,
   "id": "7c6c7117-92d1-403f-ad74-f9fb16f5aac1",
   "metadata": {},
   "outputs": [],
   "source": [
    "arr.append(6)"
   ]
  },
  {
   "cell_type": "code",
   "execution_count": 3,
   "id": "77356d79-a045-45d1-93ad-c60096e7ac49",
   "metadata": {},
   "outputs": [
    {
     "ename": "NameError",
     "evalue": "name 'np' is not defined",
     "output_type": "error",
     "traceback": [
      "\u001b[1;31m---------------------------------------------------------------------------\u001b[0m",
      "\u001b[1;31mNameError\u001b[0m                                 Traceback (most recent call last)",
      "Cell \u001b[1;32mIn[3], line 4\u001b[0m\n\u001b[0;32m      1\u001b[0m \u001b[38;5;66;03m# 2D array\u001b[39;00m\n\u001b[0;32m      3\u001b[0m arr1 \u001b[38;5;241m=\u001b[39m [[\u001b[38;5;241m1\u001b[39m,\u001b[38;5;241m2\u001b[39m,\u001b[38;5;241m3\u001b[39m,],[\u001b[38;5;241m4\u001b[39m,\u001b[38;5;241m5\u001b[39m,\u001b[38;5;241m6\u001b[39m]]\n\u001b[1;32m----> 4\u001b[0m arr1 \u001b[38;5;241m=\u001b[39m np\u001b[38;5;241m.\u001b[39marray(arr1)\n\u001b[0;32m      5\u001b[0m \u001b[38;5;28mprint\u001b[39m(arr1\u001b[38;5;241m.\u001b[39mndim)\n\u001b[0;32m      6\u001b[0m \u001b[38;5;28mprint\u001b[39m(arr1\u001b[38;5;241m.\u001b[39mshape)\n",
      "\u001b[1;31mNameError\u001b[0m: name 'np' is not defined"
     ]
    }
   ],
   "source": [
    "# 2D array\n",
    "\n",
    "arr1 = [[1,2,3,],[4,5,6]]\n",
    "arr1 = np.array(arr1)\n",
    "print(arr1.ndim)\n",
    "print(arr1.shape)\n",
    "print(arr1)"
   ]
  },
  {
   "cell_type": "code",
   "execution_count": 4,
   "id": "495fe41b-c2aa-4d09-9b54-f8eeea16b057",
   "metadata": {},
   "outputs": [
    {
     "ename": "NameError",
     "evalue": "name 'np' is not defined",
     "output_type": "error",
     "traceback": [
      "\u001b[1;31m---------------------------------------------------------------------------\u001b[0m",
      "\u001b[1;31mNameError\u001b[0m                                 Traceback (most recent call last)",
      "Cell \u001b[1;32mIn[4], line 4\u001b[0m\n\u001b[0;32m      1\u001b[0m \u001b[38;5;66;03m# 3D Array\u001b[39;00m\n\u001b[0;32m      3\u001b[0m arr2 \u001b[38;5;241m=\u001b[39m [[[\u001b[38;5;241m1\u001b[39m,\u001b[38;5;241m2\u001b[39m,\u001b[38;5;241m3\u001b[39m],[\u001b[38;5;241m4\u001b[39m,\u001b[38;5;241m5\u001b[39m,\u001b[38;5;241m6\u001b[39m]]]\n\u001b[1;32m----> 4\u001b[0m arr2 \u001b[38;5;241m=\u001b[39mnp\u001b[38;5;241m.\u001b[39marray(arr2)\n\u001b[0;32m      5\u001b[0m \u001b[38;5;28mprint\u001b[39m(arr2\u001b[38;5;241m.\u001b[39mndim)\n\u001b[0;32m      6\u001b[0m \u001b[38;5;28mprint\u001b[39m(arr2\u001b[38;5;241m.\u001b[39mshape)\n",
      "\u001b[1;31mNameError\u001b[0m: name 'np' is not defined"
     ]
    }
   ],
   "source": [
    "# 3D Array\n",
    "\n",
    "arr2 = [[[1,2,3],[4,5,6]]]\n",
    "arr2 =np.array(arr2)\n",
    "print(arr2.ndim)\n",
    "print(arr2.shape)\n",
    "print(arr2)\n",
    "\n",
    "\n"
   ]
  },
  {
   "cell_type": "code",
   "execution_count": null,
   "id": "3117c08e-3178-4393-8740-8185e4f3ed04",
   "metadata": {},
   "outputs": [],
   "source": [
    " = np.array([[1,2,3],[4,5,6],[7,8,9]])\n",
    "b = np.array([[10,20,30],[40,50,60],[70,80,90]])\n",
    "\n",
    "c = a+b\n",
    "print(c)\n",
    "\n"
   ]
  },
  {
   "cell_type": "code",
   "execution_count": null,
   "id": "2bdb3b39-d6ae-4dd6-9c7a-5e34dfaa8ca6",
   "metadata": {},
   "outputs": [],
   "source": [
    "a = np.array([[1,2,3],[4,5,6],[7,8,9]])\n",
    "b = np.array([[10,20,30],[40,50,60],[70,80,90]])\n",
    "\n",
    "c = a*b\n",
    "print(c)"
   ]
  },
  {
   "cell_type": "code",
   "execution_count": null,
   "id": "6d4e37b5-009f-4761-8695-47df18b9110a",
   "metadata": {},
   "outputs": [],
   "source": [
    "a = np.array([[1,2,3],[4,5,6],[7,8,9]])\n",
    "b = np.array([[10,20,30],[40,50,60],[70,80,90]])\n",
    "\n",
    "c = a/b\n",
    "print(c)\n",
    "\n"
   ]
  },
  {
   "cell_type": "code",
   "execution_count": null,
   "id": "ee853724-67f8-410b-8feb-bc7e2ced1c85",
   "metadata": {},
   "outputs": [],
   "source": [
    "a = np.array([[1,2,3],[4,5,6],[7,8,9]])\n",
    "b = np.array([[10,20,30],[40,50,60],[70,80,90]])\n",
    "c = np.eye(3)\n",
    "\n",
    "d = a+c\n",
    "print(d)"
   ]
  },
  {
   "cell_type": "code",
   "execution_count": null,
   "id": "0d73ab78-6e78-42c5-a6be-3014334593e3",
   "metadata": {},
   "outputs": [],
   "source": [
    "a = np.array([[1,2,3],[4,5,6],[7,8,9]])\n",
    "b = np.array([[10,20,30],[40,50,60],[70,80,90]])\n",
    "c = np.eye(3)\n",
    "d = np.zeros(3)\n",
    "e = np.ones(3)\n",
    "\n",
    "z = a + e\n",
    "print(z)"
   ]
  }
 ],
 "metadata": {
  "kernelspec": {
   "display_name": "Python 3 (ipykernel)",
   "language": "python",
   "name": "python3"
  },
  "language_info": {
   "codemirror_mode": {
    "name": "ipython",
    "version": 3
   },
   "file_extension": ".py",
   "mimetype": "text/x-python",
   "name": "python",
   "nbconvert_exporter": "python",
   "pygments_lexer": "ipython3",
   "version": "3.12.7"
  }
 },
 "nbformat": 4,
 "nbformat_minor": 5
}
