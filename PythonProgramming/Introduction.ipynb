{
 "cells": [
  {
   "cell_type": "markdown",
   "id": "e5464e5e",
   "metadata": {},
   "source": [
    "### Introduction Of Python Programming"
   ]
  },
  {
   "cell_type": "code",
   "execution_count": 3,
   "id": "e283e891",
   "metadata": {},
   "outputs": [
    {
     "name": "stdout",
     "output_type": "stream",
     "text": [
      "<class 'int'>\n",
      "<class 'float'>\n",
      "<class 'str'>\n"
     ]
    }
   ],
   "source": [
    "# Variable Defination\n",
    "number = 1000          # Defining Integer Variable\n",
    "decimal = 1000.890     # Defining Float Variable\n",
    "\n",
    "string = 'Hello World' # Definig String: \"Text Information\"\n",
    "\n",
    "'''\n",
    "Data types in python are as follow:\n",
    "Integer \n",
    "Float\n",
    "String\n",
    "'''\n",
    "\n",
    "# Checking Datatypes of Variables\n",
    "print(type(number))\n",
    "print(type(decimal))\n",
    "print(type(string))\n",
    "\n"
   ]
  },
  {
   "cell_type": "code",
   "execution_count": 1,
   "id": "f5713bee",
   "metadata": {},
   "outputs": [
    {
     "name": "stdout",
     "output_type": "stream",
     "text": [
      "100\n"
     ]
    }
   ],
   "source": [
    "# Type casting og Data type\n",
    "\n",
    "num = 100.2908383             # Datatype : Float\n",
    "\n",
    "print(int(num))               # Float is typecasted to int\n"
   ]
  },
  {
   "cell_type": "code",
   "execution_count": 4,
   "id": "c7c389b1-ebf2-4424-af09-a69a0157622b",
   "metadata": {},
   "outputs": [
    {
     "name": "stdout",
     "output_type": "stream",
     "text": [
      "Enter the Value:  1000\n"
     ]
    },
    {
     "name": "stdout",
     "output_type": "stream",
     "text": [
      "<class 'str'>\n",
      "1000\n",
      "1000.0\n"
     ]
    }
   ],
   "source": [
    "# Using input function\n",
    "# inut()   :---> Function\n",
    "num = input('Enter the Value: ')\n",
    "\n",
    "'''\n",
    "Where we use input function, the output of input function is always string \n",
    "'''\n",
    "\n",
    "print(type(num))         \n",
    "\n",
    "# Doing Typecasting\n",
    "print(int(num))        # Typecasting String value to integer\n",
    "print(float(num))      # Typecasting String value to float\n",
    "\n",
    "\n"
   ]
  },
  {
   "cell_type": "code",
   "execution_count": 3,
   "id": "6cc67210-0f4b-4151-9ed4-82fbfaeb01cc",
   "metadata": {},
   "outputs": [
    {
     "name": "stdout",
     "output_type": "stream",
     "text": [
      "Enter the name of the person:  Rohit Sharma\n"
     ]
    },
    {
     "name": "stdout",
     "output_type": "stream",
     "text": [
      "<class 'str'>\n"
     ]
    }
   ],
   "source": [
    "# Ask the users to enter the string using input function\n",
    "\n",
    "str = input('Enter the name of the person: ')\n",
    "print(type(str))"
   ]
  },
  {
   "cell_type": "code",
   "execution_count": 2,
   "id": "694879a6-5009-4ed5-8565-3835a3b35d4f",
   "metadata": {},
   "outputs": [
    {
     "name": "stdout",
     "output_type": "stream",
     "text": [
      "The addition of two numbers as 10.0 and 20.0 is  30.0\n",
      "The addition of two numbers as num1 and num2 is  30.0\n"
     ]
    }
   ],
   "source": [
    "# Perform Mathmatical Operations\n",
    "\n",
    "num1 = float(input('Enter the First Number: '))\n",
    "num2 = float(input('Enter the First Number: '))\n",
    "\n",
    "num3 = num1 + num2\n",
    "\n",
    "\n",
    "# Using fstring method (format string)\n",
    "\n",
    "print(f'The addition of two numbers as {num1} and {num2} is ',num3)       # First Method\n",
    "\n",
    "# Using Variable Method\n",
    "\n",
    "print(f'The addition of two numbers as num1 and num2 is ',num3)           # Second Method\n",
    "\n"
   ]
  },
  {
   "cell_type": "code",
   "execution_count": 3,
   "id": "6225ee79",
   "metadata": {},
   "outputs": [
    {
     "name": "stdout",
     "output_type": "stream",
     "text": [
      "w\n",
      "w\n"
     ]
    }
   ],
   "source": [
    "# String Indexing and Slicing\n",
    "\n",
    "string = input('Enter the String: ')\n",
    "\n",
    "''' \n",
    "H e l l o   w o r l d\n",
    "0 1 2 3 4 5 6 7 8 9 10  : left > Right\n",
    "..............-3 -2 -1  : right > Left\n",
    "\n",
    "'''\n",
    "\n",
    "print(string[6])      # Indexing\n",
    "print(string[-5])     # Indexing\n",
    "\n",
    "\n",
    "\n",
    "\n",
    "\n",
    "\n"
   ]
  },
  {
   "cell_type": "code",
   "execution_count": 5,
   "id": "5a1b140b",
   "metadata": {},
   "outputs": [
    {
     "name": "stdout",
     "output_type": "stream",
     "text": [
      "ell\n",
      "Hello Worl\n",
      "llo Wor\n",
      "o Worl\n"
     ]
    }
   ],
   "source": [
    "# Concept of Slicing\n",
    "string = input('Enter the String: ')\n",
    "\n",
    "''' \n",
    "string[Start:Stop]\n",
    "Example:\n",
    "string = Hello Word\n",
    "string[1:4]  --->  o/p:--> ell\n",
    "\n",
    "'''\n",
    "\n",
    "print(string[1:4])\n",
    "print(string[:-1])\n",
    "print(string[2:-2])\n",
    "print(string[4:-1])\n"
   ]
  },
  {
   "cell_type": "code",
   "execution_count": 6,
   "id": "37debd2d",
   "metadata": {},
   "outputs": [
    {
     "name": "stdout",
     "output_type": "stream",
     "text": [
      "el ol\n"
     ]
    }
   ],
   "source": [
    "\n",
    "# Concept of Slicing\n",
    "string = input('Enter the String: ')\n",
    "\n",
    "''' \n",
    "string[Start:Stop:Step]\n",
    "Example:\n",
    "string = Hello Word\n",
    "string[1::2]  --->  o/p:--> el\n",
    "\n",
    "'''\n",
    "print(string[1::2])\n"
   ]
  },
  {
   "cell_type": "code",
   "execution_count": 7,
   "id": "19939853",
   "metadata": {},
   "outputs": [
    {
     "name": "stdout",
     "output_type": "stream",
     "text": [
      "Hlowloet h ol fpto rgamn\n",
      "o welcome to the world of python programmi\n",
      "gnimmargorp nohtyp fo dlrow eht ot emoclew olleH\n",
      "Hello welcome to the world of python programmi\n"
     ]
    }
   ],
   "source": [
    "# Concept of Indexing and Slicing Together\n",
    "\n",
    "str = 'Hello welcome to the world of python programming'\n",
    "\n",
    "print(str[::2])\n",
    "print(str[4:-2:])\n",
    "print(str[::-1])\n",
    "print(str[:-2:1])\n"
   ]
  },
  {
   "cell_type": "code",
   "execution_count": null,
   "id": "dc7d539c",
   "metadata": {},
   "outputs": [
    {
     "name": "stdout",
     "output_type": "stream",
     "text": [
      "[10, 20, 30, 40, 50]\n",
      "<class 'list'>\n",
      "[10, 20, 30, 40, 50, 50]\n"
     ]
    }
   ],
   "source": [
    "# Data Structures in Python programming\n",
    "\n",
    "''' \n",
    "1. List          : []                          :Mutable in Nature    \n",
    "2. Tuple         : ()                          :Immutable in Nature\n",
    "3. Dictionary    : {'key1':Value, 'key2':Value}:Immutable in Nature\n",
    "4. Sets          : {1,2,3,4,5}                 :immutable in Nature\n",
    "\n",
    "If you are performing any computaionat opration or soft development tuple is preffered compared to list.\n",
    "Because tuple Immutable in nature  It perform fast operations \n",
    "'''\n",
    "\n",
    "# List Definition\n",
    "\n",
    "lst = [10,20,30,40,50]\n",
    "\n",
    "print(lst)\n",
    "print(type(lst))\n",
    "\n",
    "# lst (list)\n",
    "# append() this is function which define in class list\n",
    "# Therefore, append() is a method of class list \n",
    "# lst.append(50) : You are calling function using .operator\n",
    "lst .append(50)   # this function add the value 50 at the end of the array\n",
    "print(lst)\n"
   ]
  },
  {
   "cell_type": "code",
   "execution_count": null,
   "id": "54e021f5",
   "metadata": {},
   "outputs": [
    {
     "name": "stdout",
     "output_type": "stream",
     "text": [
      "[5, 10, 20, 30, 40, 50, 50]\n"
     ]
    }
   ],
   "source": [
    "lst.insert (0,5)       # This function will add the value 5 at an index 0\n",
    "print(lst) "
   ]
  },
  {
   "cell_type": "code",
   "execution_count": 6,
   "id": "e58f0364",
   "metadata": {},
   "outputs": [
    {
     "data": {
      "text/plain": [
       "1"
      ]
     },
     "execution_count": 6,
     "metadata": {},
     "output_type": "execute_result"
    }
   ],
   "source": [
    "lst.count(10)"
   ]
  },
  {
   "cell_type": "code",
   "execution_count": null,
   "id": "b530a460",
   "metadata": {},
   "outputs": [
    {
     "data": {
      "text/plain": [
       "50"
      ]
     },
     "execution_count": 7,
     "metadata": {},
     "output_type": "execute_result"
    }
   ],
   "source": [
    "lst.pop()    # this function will remove the last number present in the list"
   ]
  },
  {
   "cell_type": "code",
   "execution_count": 8,
   "id": "096a4263",
   "metadata": {},
   "outputs": [
    {
     "name": "stdout",
     "output_type": "stream",
     "text": [
      "[5, 10, 20, 30, 40, 50]\n"
     ]
    }
   ],
   "source": [
    "print(lst)"
   ]
  },
  {
   "cell_type": "code",
   "execution_count": 10,
   "id": "93f2a76e",
   "metadata": {},
   "outputs": [
    {
     "data": {
      "text/plain": [
       "50"
      ]
     },
     "execution_count": 10,
     "metadata": {},
     "output_type": "execute_result"
    }
   ],
   "source": [
    "lst.pop()"
   ]
  },
  {
   "cell_type": "code",
   "execution_count": 11,
   "id": "f0eb9897",
   "metadata": {},
   "outputs": [
    {
     "name": "stdout",
     "output_type": "stream",
     "text": [
      "[5, 10, 20, 30, 40]\n"
     ]
    }
   ],
   "source": [
    "print(lst)"
   ]
  },
  {
   "cell_type": "code",
   "execution_count": null,
   "id": "123aca2c",
   "metadata": {},
   "outputs": [
    {
     "name": "stdout",
     "output_type": "stream",
     "text": [
      "[5, 20, 30, 40]\n"
     ]
    }
   ],
   "source": [
    "lst.remove(10)   # this function will remove the specified value\n",
    "print(lst)"
   ]
  },
  {
   "cell_type": "code",
   "execution_count": 13,
   "id": "aa12f343",
   "metadata": {},
   "outputs": [
    {
     "name": "stdout",
     "output_type": "stream",
     "text": [
      "[10, 10, 30, 30, 40, 20]\n"
     ]
    }
   ],
   "source": [
    "lst = [10,10,10,20,30,30,20,40,20,60]\n",
    "lst.pop()\n",
    "lst.remove(10)\n",
    "lst.remove(20)\n",
    "lst.remove(20)\n",
    "print(lst)"
   ]
  },
  {
   "cell_type": "code",
   "execution_count": 14,
   "id": "0e9ecffb",
   "metadata": {},
   "outputs": [
    {
     "name": "stdout",
     "output_type": "stream",
     "text": [
      "6\n"
     ]
    }
   ],
   "source": [
    "# Calculate lenght of the numbers present in list\n",
    "# len() : function\n",
    "print(len(lst)) "
   ]
  },
  {
   "cell_type": "code",
   "execution_count": 17,
   "id": "ac9a0075",
   "metadata": {},
   "outputs": [
    {
     "name": "stdout",
     "output_type": "stream",
     "text": [
      "[10, 30, 50]\n",
      "[60, 50, 40, 30, 20, 10]\n",
      "30\n"
     ]
    }
   ],
   "source": [
    "# Concept of Indexing and Slicing on list\n",
    "lst = [10,20,30,40,50,60]\n",
    "print(lst[0::2])\n",
    "print(lst[::-1])\n",
    "print(lst[2])"
   ]
  },
  {
   "cell_type": "code",
   "execution_count": 20,
   "id": "85237db0",
   "metadata": {},
   "outputs": [],
   "source": [
    "# Example 1\n",
    "\n",
    "lst =[10,20,30,[40,50,60],[1,[2,[3,4,5,6],7],8,9],10]\n"
   ]
  },
  {
   "cell_type": "code",
   "execution_count": 21,
   "id": "450d0402",
   "metadata": {},
   "outputs": [
    {
     "data": {
      "text/plain": [
       "5"
      ]
     },
     "execution_count": 21,
     "metadata": {},
     "output_type": "execute_result"
    }
   ],
   "source": [
    "# o/p : 5\n",
    "lst[4][1][1][2]"
   ]
  },
  {
   "cell_type": "code",
   "execution_count": 22,
   "id": "3520c7c2",
   "metadata": {},
   "outputs": [],
   "source": [
    "# Example 2\n",
    "\n",
    "lst = [10,20,[1,2,3,[10,20,[30,[40,50,[60],70],90],9,100],1000],2000,[10000]]"
   ]
  },
  {
   "cell_type": "code",
   "execution_count": 23,
   "id": "e33d7365",
   "metadata": {},
   "outputs": [
    {
     "data": {
      "text/plain": [
       "60"
      ]
     },
     "execution_count": 23,
     "metadata": {},
     "output_type": "execute_result"
    }
   ],
   "source": [
    "# o/p : 60\n",
    "lst[2][3][2][1][2][0]"
   ]
  },
  {
   "cell_type": "code",
   "execution_count": 25,
   "id": "eb473d75",
   "metadata": {},
   "outputs": [
    {
     "data": {
      "text/plain": [
       "600"
      ]
     },
     "execution_count": 25,
     "metadata": {},
     "output_type": "execute_result"
    }
   ],
   "source": [
    "# Example 3\n",
    "# o/p : 600\n",
    "\n",
    "lst = [10,[100,200,300,[400,[500,[[[600],700],1],10],20]]]\n",
    "\n",
    "lst[1][3][1][1][0][0][0]"
   ]
  },
  {
   "cell_type": "code",
   "execution_count": 2,
   "id": "68d2e1c6",
   "metadata": {},
   "outputs": [
    {
     "data": {
      "text/plain": [
       "[800, 900, 1000]"
      ]
     },
     "execution_count": 2,
     "metadata": {},
     "output_type": "execute_result"
    }
   ],
   "source": [
    "# Example 4\n",
    "# o/p : [800,900,1000]\n",
    "\n",
    "lst = [10,[100,200,300,[400,[500,[[[600,700,800,900,1000,1100,1200],700],1],10],20]]]\n",
    "\n",
    "lst[1][3][1][1][0][0][2:5]\n"
   ]
  },
  {
   "cell_type": "code",
   "execution_count": 8,
   "id": "5af2b51e",
   "metadata": {},
   "outputs": [
    {
     "name": "stdout",
     "output_type": "stream",
     "text": [
      "<class 'tuple'>\n"
     ]
    },
    {
     "data": {
      "text/plain": [
       "1"
      ]
     },
     "execution_count": 8,
     "metadata": {},
     "output_type": "execute_result"
    }
   ],
   "source": [
    "# Tuple Defination \n",
    "\n",
    "tup = (10,20,30,40)\n",
    "print(type(tup))\n",
    "tup.count(10)\n"
   ]
  },
  {
   "cell_type": "code",
   "execution_count": 3,
   "id": "08a770a8",
   "metadata": {},
   "outputs": [],
   "source": [
    "# tuple indexing and slicing\n",
    "\n",
    "tup = (10,20,30,[40,50,(30,40,(60,70,80))]) "
   ]
  },
  {
   "cell_type": "code",
   "execution_count": 4,
   "id": "0c574118",
   "metadata": {},
   "outputs": [
    {
     "data": {
      "text/plain": [
       "(70, 80)"
      ]
     },
     "execution_count": 4,
     "metadata": {},
     "output_type": "execute_result"
    }
   ],
   "source": [
    "# Example\n",
    "# o/p : 70,80\n",
    "tup[3][2][2][1:]"
   ]
  },
  {
   "cell_type": "code",
   "execution_count": 6,
   "id": "264d176a",
   "metadata": {},
   "outputs": [
    {
     "name": "stdout",
     "output_type": "stream",
     "text": [
      "The value is 10\n"
     ]
    }
   ],
   "source": [
    "# Condition Statement\n",
    "''' \n",
    "if condition==True\n",
    "  perform operation inside the loop\n",
    "  Else:\n",
    "  Note := : Assignment Operater\n",
    "        == : comparison operator \n",
    "        \n",
    "'''\n",
    "\n",
    "num = 10\n",
    "\n",
    "if num == 10:\n",
    "     print('The value is 10')\n",
    "else:\n",
    "     print('The value is Other than 10')\n",
    "\n"
   ]
  },
  {
   "cell_type": "code",
   "execution_count": 7,
   "id": "2d747484",
   "metadata": {},
   "outputs": [
    {
     "name": "stdout",
     "output_type": "stream",
     "text": [
      "The given string is palindrom \n"
     ]
    }
   ],
   "source": [
    "# Check the given string is palindrom or not\n",
    "\n",
    "text = 'dad'\n",
    "text1 = text[::-1]\n",
    "\n",
    "if text == text1 :\n",
    "    print('The given string is palindrom ')\n",
    "else:\n",
    "    print('The given string is Not palindrom')"
   ]
  },
  {
   "cell_type": "code",
   "execution_count": null,
   "id": "159e1a9d",
   "metadata": {},
   "outputs": [],
   "source": [
    "''' \n",
    "if condition:\n",
    "    statement\n",
    "elif condition:\n",
    "    statement\n",
    "else:\n",
    "    statement\n",
    "'''\n"
   ]
  },
  {
   "cell_type": "code",
   "execution_count": 9,
   "id": "aa926e95",
   "metadata": {},
   "outputs": [
    {
     "name": "stdout",
     "output_type": "stream",
     "text": [
      "Good Student\n"
     ]
    }
   ],
   "source": [
    "'''  \n",
    "marks > 80 : Best Student\n",
    "Marks between 60 to 79 : Good Student\n",
    "Marks between 50 to 59 : Average Student\n",
    "Marks< 49 : Poor Student\n",
    "\n",
    "'''\n",
    "\n",
    "marks = float (input('Enter Marks  of the Student:'))\n",
    "\n",
    "if (marks > 80):\n",
    "    print('Best Student')\n",
    "elif (marks < 80 and marks > 60):\n",
    "    print('Good Student')\n",
    "elif (marks < 60 and marks > 50):\n",
    "    print('Average Student')\n",
    "else:\n",
    "    print('Poor Student')\n",
    "\n",
    "\n"
   ]
  },
  {
   "cell_type": "code",
   "execution_count": 13,
   "id": "280e9e52",
   "metadata": {},
   "outputs": [
    {
     "name": "stdout",
     "output_type": "stream",
     "text": [
      "Check your transaction, Once Again\n"
     ]
    }
   ],
   "source": [
    "'''  \n",
    "balance = 10000\n",
    "withdraw = amount \n",
    "threshould = 2000\n",
    "\n",
    "'''\n",
    "balance = 10000\n",
    "withdraw = float(input(\"Enter amount to withdraw: \"))\n",
    "threshold = 2000\n",
    "\n",
    "if withdraw >= balance:\n",
    "    print('Insufficient Balance')\n",
    "if withdraw <= balance:\n",
    "    new_balance = balance - withdraw\n",
    "    if new_balance >= 2000:\n",
    "        print('New Balance is', new_balance)\n",
    "    else :\n",
    "        print('Check your transaction, Once Again')"
   ]
  },
  {
   "cell_type": "code",
   "execution_count": 15,
   "id": "8908c679",
   "metadata": {},
   "outputs": [
    {
     "name": "stdout",
     "output_type": "stream",
     "text": [
      "1\n",
      "2\n",
      "3\n",
      "4\n",
      "5\n",
      "6\n",
      "7\n",
      "8\n",
      "9\n",
      "10\n"
     ]
    }
   ],
   "source": [
    "# For loop\n",
    "for i in range(1,11):\n",
    "    print(i)"
   ]
  },
  {
   "cell_type": "code",
   "execution_count": 16,
   "id": "580f7ce9",
   "metadata": {},
   "outputs": [
    {
     "name": "stdout",
     "output_type": "stream",
     "text": [
      "1 2 3 4 5 6 7 8 9 10 "
     ]
    }
   ],
   "source": [
    "for i in range(1,11):\n",
    "    print(i,end = \" \")"
   ]
  },
  {
   "cell_type": "code",
   "execution_count": 23,
   "id": "d32bb66f",
   "metadata": {},
   "outputs": [
    {
     "name": "stdout",
     "output_type": "stream",
     "text": [
      "* \n",
      "* * \n",
      "* * * \n",
      "* * * * \n",
      "* * * * * \n"
     ]
    }
   ],
   "source": [
    "''' \n",
    "*\n",
    "* * \n",
    "* * *\n",
    "* * * * \n",
    "* * * * *\n",
    "'''\n",
    "for i in range(1,6):\n",
    "    print('* '*i)"
   ]
  },
  {
   "cell_type": "code",
   "execution_count": 25,
   "id": "76166612",
   "metadata": {},
   "outputs": [
    {
     "name": "stdout",
     "output_type": "stream",
     "text": [
      "* \n",
      "* * * * \n",
      "* * * * * * * * * \n",
      "* * * * * * * * * * * * * * * * \n",
      "* * * * * * * * * * * * * * * * * * * * * * * * * \n"
     ]
    }
   ],
   "source": [
    "for i in range(1,6):\n",
    "    print('* '*i*i)"
   ]
  },
  {
   "cell_type": "code",
   "execution_count": 3,
   "id": "b53a5010",
   "metadata": {},
   "outputs": [
    {
     "name": "stdout",
     "output_type": "stream",
     "text": [
      "* \n",
      "* * * * \n",
      "* * * * * * * * * \n",
      "* * * * * * * * * * * * * * * * \n",
      "* * * * * * * * * * * * * * * * * * * * * * * * * \n"
     ]
    }
   ],
   "source": [
    "for i in range(1,6):\n",
    "    print('* '*i**2)"
   ]
  },
  {
   "cell_type": "code",
   "execution_count": 5,
   "id": "ccb80c2b",
   "metadata": {},
   "outputs": [
    {
     "name": "stdout",
     "output_type": "stream",
     "text": [
      "0\n",
      "2\n",
      "4\n",
      "6\n",
      "8\n"
     ]
    }
   ],
   "source": [
    "''' \n",
    "rang (Start,stop,step)\n",
    "'''\n",
    "\n",
    "for i in range(0,10,2):\n",
    "    print(i)"
   ]
  },
  {
   "cell_type": "code",
   "execution_count": 6,
   "id": "c9e48918",
   "metadata": {},
   "outputs": [
    {
     "name": "stdout",
     "output_type": "stream",
     "text": [
      "0\n",
      "1\n",
      "2\n",
      "3\n",
      "4\n",
      "5\n"
     ]
    }
   ],
   "source": [
    "# Using while loop\n",
    "\n",
    "num = 5\n",
    "count = 0\n",
    "while count <=num:\n",
    "    print(count)\n",
    "    count = count + 1"
   ]
  },
  {
   "cell_type": "code",
   "execution_count": 7,
   "id": "c94b5d88",
   "metadata": {},
   "outputs": [
    {
     "name": "stdout",
     "output_type": "stream",
     "text": [
      "0\n",
      "1\n",
      "2\n",
      "3\n",
      "4\n",
      "5\n"
     ]
    }
   ],
   "source": [
    "# Using while loop\n",
    "\n",
    "num = 5\n",
    "i = 0\n",
    "while i <=num:\n",
    "    print(i)\n",
    "    i = i + 1"
   ]
  },
  {
   "cell_type": "code",
   "execution_count": 9,
   "id": "aef1852c",
   "metadata": {},
   "outputs": [
    {
     "name": "stdout",
     "output_type": "stream",
     "text": [
      "0\n",
      "2\n",
      "4\n",
      "6\n",
      "8\n",
      "10\n"
     ]
    }
   ],
   "source": [
    "num = 10\n",
    "count = 0\n",
    "while count <= num:\n",
    "    if count%2 == 0:\n",
    "        print(count)\n",
    "    count = count + 1"
   ]
  },
  {
   "cell_type": "code",
   "execution_count": 10,
   "id": "97b2234a",
   "metadata": {},
   "outputs": [
    {
     "name": "stdout",
     "output_type": "stream",
     "text": [
      "0\n",
      "2\n",
      "4\n",
      "6\n",
      "8\n",
      "10\n",
      "12\n",
      "14\n",
      "16\n",
      "18\n"
     ]
    }
   ],
   "source": [
    "for i in range(0,20,2):\n",
    "    pass\n",
    "    print(i)"
   ]
  },
  {
   "cell_type": "code",
   "execution_count": 11,
   "id": "5f0854c3",
   "metadata": {},
   "outputs": [],
   "source": [
    "for i in range(0,20,2):\n",
    "    continue\n",
    "    print(i)"
   ]
  },
  {
   "cell_type": "code",
   "execution_count": null,
   "id": "de5a347c",
   "metadata": {},
   "outputs": [],
   "source": [
    "for i in range(0,20,2):\n",
    "    break\n",
    "    print(i)\n",
    "    "
   ]
  },
  {
   "cell_type": "code",
   "execution_count": 12,
   "id": "4a4cd070",
   "metadata": {},
   "outputs": [
    {
     "name": "stdout",
     "output_type": "stream",
     "text": [
      "0\n",
      "1\n",
      "2\n",
      "3\n",
      "4\n",
      "5\n"
     ]
    }
   ],
   "source": [
    "for i in range(0,15):\n",
    "    if i<=5:\n",
    "        print(i)\n",
    "    pass"
   ]
  },
  {
   "cell_type": "code",
   "execution_count": 13,
   "id": "d7049186",
   "metadata": {},
   "outputs": [
    {
     "name": "stdout",
     "output_type": "stream",
     "text": [
      "0\n",
      "1\n",
      "2\n",
      "3\n",
      "4\n",
      "5\n"
     ]
    }
   ],
   "source": [
    "for i in range(0,15):\n",
    "    if i<=5:\n",
    "        print(i)\n",
    "    continue"
   ]
  },
  {
   "cell_type": "code",
   "execution_count": 14,
   "id": "ed75478d",
   "metadata": {},
   "outputs": [
    {
     "name": "stdout",
     "output_type": "stream",
     "text": [
      "0\n"
     ]
    }
   ],
   "source": [
    "for i in range(0,15):\n",
    "    if i<=5:\n",
    "        print(i)\n",
    "    break"
   ]
  },
  {
   "cell_type": "code",
   "execution_count": 18,
   "id": "edc32d5e",
   "metadata": {},
   "outputs": [
    {
     "name": "stdout",
     "output_type": "stream",
     "text": [
      "0\n"
     ]
    }
   ],
   "source": [
    "for i in range(0,15):\n",
    "    if i<=5:\n",
    "        print(i)\n",
    "    pass\n",
    "    break\n",
    " "
   ]
  },
  {
   "cell_type": "code",
   "execution_count": 19,
   "id": "8c108d55",
   "metadata": {},
   "outputs": [
    {
     "name": "stdout",
     "output_type": "stream",
     "text": [
      "0\n"
     ]
    }
   ],
   "source": [
    "for i in range(0,15):\n",
    "    if i<=5:\n",
    "        print(i)\n",
    "    break\n",
    "    continue\n",
    " "
   ]
  },
  {
   "cell_type": "code",
   "execution_count": 20,
   "id": "50fdf75b",
   "metadata": {},
   "outputs": [
    {
     "name": "stdout",
     "output_type": "stream",
     "text": [
      "0\n"
     ]
    }
   ],
   "source": [
    "for i in range(0,15):\n",
    "    if i<=5:\n",
    "        print(i)\n",
    "    break\n",
    "    pass\n",
    " "
   ]
  },
  {
   "cell_type": "code",
   "execution_count": 22,
   "id": "6e80b469",
   "metadata": {},
   "outputs": [
    {
     "name": "stdout",
     "output_type": "stream",
     "text": [
      "0\n",
      "10\n",
      "0\n",
      "11\n",
      "0\n",
      "12\n",
      "0\n",
      "13\n",
      "0\n",
      "14\n",
      "0\n",
      "15\n",
      "0\n",
      "16\n",
      "0\n",
      "17\n",
      "0\n",
      "18\n",
      "0\n",
      "19\n",
      "1\n",
      "10\n",
      "1\n",
      "11\n",
      "1\n",
      "12\n",
      "1\n",
      "13\n",
      "1\n",
      "14\n",
      "1\n",
      "15\n",
      "1\n",
      "16\n",
      "1\n",
      "17\n",
      "1\n",
      "18\n",
      "1\n",
      "19\n",
      "2\n",
      "10\n",
      "2\n",
      "11\n",
      "2\n",
      "12\n",
      "2\n",
      "13\n",
      "2\n",
      "14\n",
      "2\n",
      "15\n",
      "2\n",
      "16\n",
      "2\n",
      "17\n",
      "2\n",
      "18\n",
      "2\n",
      "19\n",
      "3\n",
      "10\n",
      "3\n",
      "11\n",
      "3\n",
      "12\n",
      "3\n",
      "13\n",
      "3\n",
      "14\n",
      "3\n",
      "15\n",
      "3\n",
      "16\n",
      "3\n",
      "17\n",
      "3\n",
      "18\n",
      "3\n",
      "19\n",
      "4\n",
      "10\n",
      "4\n",
      "11\n",
      "4\n",
      "12\n",
      "4\n",
      "13\n",
      "4\n",
      "14\n",
      "4\n",
      "15\n",
      "4\n",
      "16\n",
      "4\n",
      "17\n",
      "4\n",
      "18\n",
      "4\n",
      "19\n",
      "5\n",
      "10\n",
      "5\n",
      "11\n",
      "5\n",
      "12\n",
      "5\n",
      "13\n",
      "5\n",
      "14\n",
      "5\n",
      "15\n",
      "5\n",
      "16\n",
      "5\n",
      "17\n",
      "5\n",
      "18\n",
      "5\n",
      "19\n",
      "6\n",
      "10\n",
      "6\n",
      "11\n",
      "6\n",
      "12\n",
      "6\n",
      "13\n",
      "6\n",
      "14\n",
      "6\n",
      "15\n",
      "6\n",
      "16\n",
      "6\n",
      "17\n",
      "6\n",
      "18\n",
      "6\n",
      "19\n",
      "7\n",
      "10\n",
      "7\n",
      "11\n",
      "7\n",
      "12\n",
      "7\n",
      "13\n",
      "7\n",
      "14\n",
      "7\n",
      "15\n",
      "7\n",
      "16\n",
      "7\n",
      "17\n",
      "7\n",
      "18\n",
      "7\n",
      "19\n",
      "8\n",
      "10\n",
      "8\n",
      "11\n",
      "8\n",
      "12\n",
      "8\n",
      "13\n",
      "8\n",
      "14\n",
      "8\n",
      "15\n",
      "8\n",
      "16\n",
      "8\n",
      "17\n",
      "8\n",
      "18\n",
      "8\n",
      "19\n",
      "9\n",
      "10\n",
      "9\n",
      "11\n",
      "9\n",
      "12\n",
      "9\n",
      "13\n",
      "9\n",
      "14\n",
      "9\n",
      "15\n",
      "9\n",
      "16\n",
      "9\n",
      "17\n",
      "9\n",
      "18\n",
      "9\n",
      "19\n"
     ]
    }
   ],
   "source": [
    "for i in range(0,10):\n",
    "    for j in range(10,20):\n",
    "        print(i)\n",
    "        print(j)\n",
    "        "
   ]
  },
  {
   "cell_type": "code",
   "execution_count": 1,
   "id": "ca4c0604",
   "metadata": {},
   "outputs": [
    {
     "name": "stdout",
     "output_type": "stream",
     "text": [
      "Check the entered choice\n"
     ]
    }
   ],
   "source": [
    "''' \n",
    "num1\n",
    "num2\n",
    "choice = +,-,*,/\n",
    "\n",
    "num1 =\n",
    "num2 =\n",
    "choice =\n",
    "\n",
    "if choice == '+':\n",
    "   addition\n",
    "if choice == '-':\n",
    "   substraction\n",
    "\n",
    "else:\n",
    "   check the entered choice\n",
    "\n",
    "'''\n",
    "\n",
    "num1 = float(input('Enter the num1: '))\n",
    "num2 = float(input('Enter the num2: '))\n",
    "choice = input('Select operator +,-,*,/: ')\n",
    "\n",
    "if choice =='+':\n",
    "   num3 = num1+num2\n",
    "   print(f'Addition of {num1} and {num2}:',num3)\n",
    "\n",
    "elif choice == '-':\n",
    "   num3 = num1-num2\n",
    "   print(f'Substraction of {num1} and {num2}:',num3)\n",
    "\n",
    "else:\n",
    "   print('Check the entered choice')\n",
    "\n"
   ]
  },
  {
   "cell_type": "code",
   "execution_count": 4,
   "id": "e1f0b5d1",
   "metadata": {},
   "outputs": [
    {
     "name": "stdout",
     "output_type": "stream",
     "text": [
      "[0]\n",
      "[0, 1]\n",
      "[0, 1, 4]\n",
      "[0, 1, 4, 9]\n",
      "[0, 1, 4, 9, 16]\n",
      "[0, 1, 4, 9, 16, 25]\n",
      "[0, 1, 4, 9, 16, 25, 36]\n",
      "[0, 1, 4, 9, 16, 25, 36, 49]\n",
      "[0, 1, 4, 9, 16, 25, 36, 49, 64]\n",
      "[0, 1, 4, 9, 16, 25, 36, 49, 64, 81]\n"
     ]
    }
   ],
   "source": [
    "# for loop\n",
    "list = []\n",
    "for i in range(0,10):\n",
    "    list.append(i*i)\n",
    "    print(list)"
   ]
  },
  {
   "cell_type": "code",
   "execution_count": 7,
   "id": "ce45d8a0",
   "metadata": {},
   "outputs": [
    {
     "data": {
      "text/plain": [
       "[0, 1, 4, 9, 16, 25, 36, 49, 64, 81]"
      ]
     },
     "execution_count": 7,
     "metadata": {},
     "output_type": "execute_result"
    }
   ],
   "source": [
    "# List Comprehnsion\n",
    "# variable = [expression for count in range(x1,x2)]\n",
    "square = [i*i for i in range(0,10)]\n",
    "square"
   ]
  },
  {
   "cell_type": "code",
   "execution_count": 8,
   "id": "c151a286",
   "metadata": {},
   "outputs": [
    {
     "data": {
      "text/plain": [
       "[False, True, False, True, False, True, False, True, False, True]"
      ]
     },
     "execution_count": 8,
     "metadata": {},
     "output_type": "execute_result"
    }
   ],
   "source": [
    "odd = [i%2 == 1 for i in range(0,10)]\n",
    "odd"
   ]
  },
  {
   "cell_type": "code",
   "execution_count": 12,
   "id": "be0b214e",
   "metadata": {},
   "outputs": [
    {
     "data": {
      "text/plain": [
       "[0, 1, 4, 9, 16, 25, 36, 49, 64, 81]"
      ]
     },
     "execution_count": 12,
     "metadata": {},
     "output_type": "execute_result"
    }
   ],
   "source": [
    "square = [i**2 for i in range(0,10)]\n",
    "square"
   ]
  },
  {
   "cell_type": "code",
   "execution_count": 14,
   "id": "be2906ca",
   "metadata": {},
   "outputs": [
    {
     "data": {
      "text/plain": [
       "['ANIKET', 'PARAG', 'AJAY', 'TANVI', 'MIHIR', 'NIKHIL']"
      ]
     },
     "execution_count": 14,
     "metadata": {},
     "output_type": "execute_result"
    }
   ],
   "source": [
    "lst = ['Aniket','Parag','Ajay','Tanvi','Mihir','Nikhil']\n",
    "new_list = [lst.upper() for lst in lst]\n",
    "new_list"
   ]
  },
  {
   "cell_type": "code",
   "execution_count": 15,
   "id": "16bfd48d",
   "metadata": {},
   "outputs": [
    {
     "data": {
      "text/plain": [
       "['aniket', 'parag', 'ajay', 'tanvi', 'mihir', 'nikhil']"
      ]
     },
     "execution_count": 15,
     "metadata": {},
     "output_type": "execute_result"
    }
   ],
   "source": [
    "new_list = [lst.lower() for lst in lst]\n",
    "new_list"
   ]
  },
  {
   "cell_type": "code",
   "execution_count": 16,
   "id": "a2597986",
   "metadata": {},
   "outputs": [
    {
     "data": {
      "text/plain": [
       "[6, 5, 4, 5, 5, 6]"
      ]
     },
     "execution_count": 16,
     "metadata": {},
     "output_type": "execute_result"
    }
   ],
   "source": [
    "new_list = [len(lst) for lst in lst ]\n",
    "new_list"
   ]
  },
  {
   "cell_type": "code",
   "execution_count": 20,
   "id": "25189f51",
   "metadata": {},
   "outputs": [
    {
     "data": {
      "text/plain": [
       "31"
      ]
     },
     "execution_count": 20,
     "metadata": {},
     "output_type": "execute_result"
    }
   ],
   "source": [
    "new_list = sum(len(lst) for lst in lst)\n",
    "new_list"
   ]
  },
  {
   "cell_type": "code",
   "execution_count": 21,
   "id": "78eadcf8",
   "metadata": {},
   "outputs": [
    {
     "data": {
      "text/plain": [
       "4"
      ]
     },
     "execution_count": 21,
     "metadata": {},
     "output_type": "execute_result"
    }
   ],
   "source": [
    "new_list = min(len(lst) for lst in lst)\n",
    "new_list"
   ]
  },
  {
   "cell_type": "code",
   "execution_count": 22,
   "id": "83ca9b7c",
   "metadata": {},
   "outputs": [
    {
     "data": {
      "text/plain": [
       "6"
      ]
     },
     "execution_count": 22,
     "metadata": {},
     "output_type": "execute_result"
    }
   ],
   "source": [
    "new_list = max(len(lst) for lst in lst)\n",
    "new_list"
   ]
  },
  {
   "cell_type": "code",
   "execution_count": 23,
   "id": "e8e16685",
   "metadata": {},
   "outputs": [
    {
     "data": {
      "text/plain": [
       "20"
      ]
     },
     "execution_count": 23,
     "metadata": {},
     "output_type": "execute_result"
    }
   ],
   "source": [
    "# logic: 0 2 4 6 8 :  sum : 20\n",
    "n = sum([x for x in range(0,10) if x % 2 == 0])\n",
    "n\n"
   ]
  },
  {
   "cell_type": "code",
   "execution_count": 27,
   "id": "a117ae01",
   "metadata": {},
   "outputs": [
    {
     "data": {
      "text/plain": [
       "25"
      ]
     },
     "execution_count": 27,
     "metadata": {},
     "output_type": "execute_result"
    }
   ],
   "source": [
    "# logic: 0 1 3 5 7 9 :  sum : 25\n",
    "n = sum([x for x in range(0,10) if x % 2 != 0])\n",
    "n\n"
   ]
  },
  {
   "cell_type": "code",
   "execution_count": 30,
   "id": "66ba5338",
   "metadata": {},
   "outputs": [
    {
     "data": {
      "text/plain": [
       "120"
      ]
     },
     "execution_count": 30,
     "metadata": {},
     "output_type": "execute_result"
    }
   ],
   "source": [
    "# 5! = 5*4*3*2*1* ---> 120\n",
    "import math\n",
    "math.factorial(5)"
   ]
  },
  {
   "cell_type": "code",
   "execution_count": 32,
   "id": "0966a7b6",
   "metadata": {},
   "outputs": [
    {
     "name": "stdout",
     "output_type": "stream",
     "text": [
      "2.23606797749979\n",
      "2.23606797749979\n"
     ]
    }
   ],
   "source": [
    "# Square root\n",
    "print(5**0.5)\n",
    "print(math.sqrt(5))"
   ]
  },
  {
   "cell_type": "code",
   "execution_count": 36,
   "id": "a0348348",
   "metadata": {},
   "outputs": [
    {
     "data": {
      "text/plain": [
       "4.0"
      ]
     },
     "execution_count": 36,
     "metadata": {},
     "output_type": "execute_result"
    }
   ],
   "source": [
    "# Power function\n",
    "math.pow(2,2)"
   ]
  },
  {
   "cell_type": "code",
   "execution_count": 37,
   "id": "e9d58fe5",
   "metadata": {},
   "outputs": [
    {
     "data": {
      "text/plain": [
       "32.0"
      ]
     },
     "execution_count": 37,
     "metadata": {},
     "output_type": "execute_result"
    }
   ],
   "source": [
    "math.pow(2,5)"
   ]
  },
  {
   "cell_type": "code",
   "execution_count": 34,
   "id": "f289deb1",
   "metadata": {},
   "outputs": [
    {
     "data": {
      "text/plain": [
       "3125.0"
      ]
     },
     "execution_count": 34,
     "metadata": {},
     "output_type": "execute_result"
    }
   ],
   "source": [
    "math.pow(5,5)"
   ]
  },
  {
   "cell_type": "code",
   "execution_count": 38,
   "id": "f18f23e3",
   "metadata": {},
   "outputs": [
    {
     "name": "stdout",
     "output_type": "stream",
     "text": [
      "0.6989700043360189\n"
     ]
    }
   ],
   "source": [
    "print(math.log10(5))"
   ]
  }
 ],
 "metadata": {
  "kernelspec": {
   "display_name": "base",
   "language": "python",
   "name": "python3"
  },
  "language_info": {
   "codemirror_mode": {
    "name": "ipython",
    "version": 3
   },
   "file_extension": ".py",
   "mimetype": "text/x-python",
   "name": "python",
   "nbconvert_exporter": "python",
   "pygments_lexer": "ipython3",
   "version": "3.12.7"
  }
 },
 "nbformat": 4,
 "nbformat_minor": 5
}
