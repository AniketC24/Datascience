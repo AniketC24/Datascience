{
 "cells": [
  {
   "cell_type": "markdown",
   "id": "e5464e5e",
   "metadata": {},
   "source": [
    "### Introduction Of Python Programming"
   ]
  },
  {
   "cell_type": "code",
   "execution_count": 3,
   "id": "e283e891",
   "metadata": {},
   "outputs": [
    {
     "name": "stdout",
     "output_type": "stream",
     "text": [
      "<class 'int'>\n",
      "<class 'float'>\n",
      "<class 'str'>\n"
     ]
    }
   ],
   "source": [
    "# Variable Defination\n",
    "number = 1000          # Defining Integer Variable\n",
    "decimal = 1000.890     # Defining Float Variable\n",
    "\n",
    "string = 'Hello World' # Definig String: \"Text Information\"\n",
    "\n",
    "'''\n",
    "Data types in python are as follow:\n",
    "Integer \n",
    "Float\n",
    "String\n",
    "'''\n",
    "\n",
    "# Checking Datatypes of Variables\n",
    "print(type(number))\n",
    "print(type(decimal))\n",
    "print(type(string))\n",
    "\n"
   ]
  },
  {
   "cell_type": "code",
   "execution_count": null,
   "id": "f5713bee",
   "metadata": {},
   "outputs": [],
   "source": []
  }
 ],
 "metadata": {
  "kernelspec": {
   "display_name": "base",
   "language": "python",
   "name": "python3"
  },
  "language_info": {
   "codemirror_mode": {
    "name": "ipython",
    "version": 3
   },
   "file_extension": ".py",
   "mimetype": "text/x-python",
   "name": "python",
   "nbconvert_exporter": "python",
   "pygments_lexer": "ipython3",
   "version": "3.12.7"
  }
 },
 "nbformat": 4,
 "nbformat_minor": 5
}
