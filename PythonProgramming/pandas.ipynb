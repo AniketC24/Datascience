{
 "cells": [
  {
   "cell_type": "code",
   "execution_count": 1,
   "id": "df03abbb",
   "metadata": {},
   "outputs": [],
   "source": [
    "# Import Data Manipulation Library\n",
    "import pandas as pd \n",
    "import numpy as np"
   ]
  },
  {
   "cell_type": "code",
   "execution_count": 2,
   "id": "e4b6913a",
   "metadata": {},
   "outputs": [
    {
     "name": "stdout",
     "output_type": "stream",
     "text": [
      "0    1\n",
      "1    2\n",
      "2    3\n",
      "3    4\n",
      "4    5\n",
      "dtype: int64\n"
     ]
    }
   ],
   "source": [
    "# Define a series : 1D Array\n",
    "\n",
    "a = pd.Series([1,2,3,4,5])\n",
    "print(a)"
   ]
  },
  {
   "cell_type": "code",
   "execution_count": 6,
   "id": "2f84d78c",
   "metadata": {},
   "outputs": [
    {
     "data": {
      "text/plain": [
       "a    1\n",
       "b    2\n",
       "c    3\n",
       "d    4\n",
       "e    5\n",
       "dtype: int64"
      ]
     },
     "execution_count": 6,
     "metadata": {},
     "output_type": "execute_result"
    }
   ],
   "source": [
    "b =pd.Series([1,2,3,4,5],index = ['a','b','c','d','e'])\n",
    "b\n"
   ]
  },
  {
   "cell_type": "code",
   "execution_count": 7,
   "id": "4559b8ff",
   "metadata": {},
   "outputs": [
    {
     "name": "stdout",
     "output_type": "stream",
     "text": [
      "a    1\n",
      "b    2\n",
      "c    3\n",
      "d    4\n",
      "e    5\n",
      "dtype: int64\n"
     ]
    }
   ],
   "source": [
    "b =pd.Series([1,2,3,4,5],index = ['a','b','c','d','e'])\n",
    "print(b)"
   ]
  },
  {
   "cell_type": "code",
   "execution_count": 10,
   "id": "d8c5d238",
   "metadata": {},
   "outputs": [
    {
     "name": "stdout",
     "output_type": "stream",
     "text": [
      "int64\n",
      "5\n",
      "4\n"
     ]
    },
    {
     "name": "stderr",
     "output_type": "stream",
     "text": [
      "C:\\Users\\admin\\AppData\\Local\\Temp\\ipykernel_5060\\1368999294.py:3: FutureWarning: Series.__getitem__ treating keys as positions is deprecated. In a future version, integer keys will always be treated as labels (consistent with DataFrame behavior). To access a value by position, use `ser.iloc[pos]`\n",
      "  print(a[4])\n"
     ]
    }
   ],
   "source": [
    "# Using Concept of Indexing\n",
    "print(a.dtype)\n",
    "print(a[4])\n",
    "print(b['d'])\n"
   ]
  },
  {
   "cell_type": "code",
   "execution_count": 12,
   "id": "6cc411b2",
   "metadata": {},
   "outputs": [
    {
     "name": "stdout",
     "output_type": "stream",
     "text": [
      "   India   USA    UK\n",
      "0   2000  3000  3500\n"
     ]
    }
   ],
   "source": [
    "# 2D\n",
    "c = pd.DataFrame({'India':[2000],'USA':[3000],\n",
    "                 'UK':[3500]})\n",
    "print(c)"
   ]
  },
  {
   "cell_type": "code",
   "execution_count": 13,
   "id": "5e43f7ee",
   "metadata": {},
   "outputs": [
    {
     "name": "stdout",
     "output_type": "stream",
     "text": [
      "      Name  Age  Marks  CGPA\n",
      "0   Nikhil   10     34     8\n",
      "1   Aniket   11     56     6\n",
      "2    Mihir   12     67     9\n",
      "3    Tanvi   13     34     6\n",
      "4  Hemangi   14     56     8\n"
     ]
    }
   ],
   "source": [
    "# Create Student Database\n",
    "database = {'Name':['Nikhil','Aniket','Mihir','Tanvi','Hemangi'],\n",
    "            'Age':[10,11,12,13,14],\n",
    "            'Marks':[34,56,67,34,56],\n",
    "            'CGPA':[8,6,9,6,8]\n",
    "            }\n",
    "\n",
    "# Create a variable df: which will store dataframe\n",
    "df = pd.DataFrame(database)\n",
    "print(df)"
   ]
  },
  {
   "cell_type": "code",
   "execution_count": 14,
   "id": "14982afa",
   "metadata": {},
   "outputs": [
    {
     "data": {
      "text/html": [
       "<div>\n",
       "<style scoped>\n",
       "    .dataframe tbody tr th:only-of-type {\n",
       "        vertical-align: middle;\n",
       "    }\n",
       "\n",
       "    .dataframe tbody tr th {\n",
       "        vertical-align: top;\n",
       "    }\n",
       "\n",
       "    .dataframe thead th {\n",
       "        text-align: right;\n",
       "    }\n",
       "</style>\n",
       "<table border=\"1\" class=\"dataframe\">\n",
       "  <thead>\n",
       "    <tr style=\"text-align: right;\">\n",
       "      <th></th>\n",
       "      <th>Name</th>\n",
       "      <th>Age</th>\n",
       "      <th>Marks</th>\n",
       "      <th>CGPA</th>\n",
       "    </tr>\n",
       "  </thead>\n",
       "  <tbody>\n",
       "    <tr>\n",
       "      <th>0</th>\n",
       "      <td>Nikhil</td>\n",
       "      <td>10</td>\n",
       "      <td>34</td>\n",
       "      <td>8</td>\n",
       "    </tr>\n",
       "    <tr>\n",
       "      <th>1</th>\n",
       "      <td>Aniket</td>\n",
       "      <td>11</td>\n",
       "      <td>56</td>\n",
       "      <td>6</td>\n",
       "    </tr>\n",
       "    <tr>\n",
       "      <th>2</th>\n",
       "      <td>Mihir</td>\n",
       "      <td>12</td>\n",
       "      <td>67</td>\n",
       "      <td>9</td>\n",
       "    </tr>\n",
       "    <tr>\n",
       "      <th>3</th>\n",
       "      <td>Tanvi</td>\n",
       "      <td>13</td>\n",
       "      <td>34</td>\n",
       "      <td>6</td>\n",
       "    </tr>\n",
       "    <tr>\n",
       "      <th>4</th>\n",
       "      <td>Hemangi</td>\n",
       "      <td>14</td>\n",
       "      <td>56</td>\n",
       "      <td>8</td>\n",
       "    </tr>\n",
       "  </tbody>\n",
       "</table>\n",
       "</div>"
      ],
      "text/plain": [
       "      Name  Age  Marks  CGPA\n",
       "0   Nikhil   10     34     8\n",
       "1   Aniket   11     56     6\n",
       "2    Mihir   12     67     9\n",
       "3    Tanvi   13     34     6\n",
       "4  Hemangi   14     56     8"
      ]
     },
     "execution_count": 14,
     "metadata": {},
     "output_type": "execute_result"
    }
   ],
   "source": [
    "df"
   ]
  },
  {
   "cell_type": "code",
   "execution_count": 16,
   "id": "5179434a",
   "metadata": {},
   "outputs": [
    {
     "data": {
      "text/html": [
       "<div>\n",
       "<style scoped>\n",
       "    .dataframe tbody tr th:only-of-type {\n",
       "        vertical-align: middle;\n",
       "    }\n",
       "\n",
       "    .dataframe tbody tr th {\n",
       "        vertical-align: top;\n",
       "    }\n",
       "\n",
       "    .dataframe thead th {\n",
       "        text-align: right;\n",
       "    }\n",
       "</style>\n",
       "<table border=\"1\" class=\"dataframe\">\n",
       "  <thead>\n",
       "    <tr style=\"text-align: right;\">\n",
       "      <th></th>\n",
       "      <th>Name</th>\n",
       "      <th>Age</th>\n",
       "      <th>Marks</th>\n",
       "      <th>CGPA</th>\n",
       "    </tr>\n",
       "  </thead>\n",
       "  <tbody>\n",
       "    <tr>\n",
       "      <th>3</th>\n",
       "      <td>Tanvi</td>\n",
       "      <td>13</td>\n",
       "      <td>34</td>\n",
       "      <td>6</td>\n",
       "    </tr>\n",
       "  </tbody>\n",
       "</table>\n",
       "</div>"
      ],
      "text/plain": [
       "    Name  Age  Marks  CGPA\n",
       "3  Tanvi   13     34     6"
      ]
     },
     "execution_count": 16,
     "metadata": {},
     "output_type": "execute_result"
    }
   ],
   "source": [
    "df[df['Name']=='Tanvi']"
   ]
  },
  {
   "cell_type": "code",
   "execution_count": 18,
   "id": "b73e159c",
   "metadata": {},
   "outputs": [
    {
     "data": {
      "text/html": [
       "<div>\n",
       "<style scoped>\n",
       "    .dataframe tbody tr th:only-of-type {\n",
       "        vertical-align: middle;\n",
       "    }\n",
       "\n",
       "    .dataframe tbody tr th {\n",
       "        vertical-align: top;\n",
       "    }\n",
       "\n",
       "    .dataframe thead th {\n",
       "        text-align: right;\n",
       "    }\n",
       "</style>\n",
       "<table border=\"1\" class=\"dataframe\">\n",
       "  <thead>\n",
       "    <tr style=\"text-align: right;\">\n",
       "      <th></th>\n",
       "      <th>Name</th>\n",
       "      <th>Age</th>\n",
       "      <th>Marks</th>\n",
       "      <th>CGPA</th>\n",
       "    </tr>\n",
       "  </thead>\n",
       "  <tbody>\n",
       "    <tr>\n",
       "      <th>1</th>\n",
       "      <td>Aniket</td>\n",
       "      <td>11</td>\n",
       "      <td>56</td>\n",
       "      <td>6</td>\n",
       "    </tr>\n",
       "  </tbody>\n",
       "</table>\n",
       "</div>"
      ],
      "text/plain": [
       "     Name  Age  Marks  CGPA\n",
       "1  Aniket   11     56     6"
      ]
     },
     "execution_count": 18,
     "metadata": {},
     "output_type": "execute_result"
    }
   ],
   "source": [
    "df[df['Name']== 'Aniket']"
   ]
  },
  {
   "cell_type": "code",
   "execution_count": 19,
   "id": "15b709c2",
   "metadata": {},
   "outputs": [
    {
     "data": {
      "text/plain": [
       "min     34.0\n",
       "max     67.0\n",
       "mean    49.4\n",
       "Name: Marks, dtype: float64"
      ]
     },
     "execution_count": 19,
     "metadata": {},
     "output_type": "execute_result"
    }
   ],
   "source": [
    "# Usinf agg() : Agreegate Function\n",
    "df['Marks'].agg(['min','max','mean'])"
   ]
  },
  {
   "cell_type": "code",
   "execution_count": 21,
   "id": "dcd247d1",
   "metadata": {},
   "outputs": [
    {
     "data": {
      "text/html": [
       "<div>\n",
       "<style scoped>\n",
       "    .dataframe tbody tr th:only-of-type {\n",
       "        vertical-align: middle;\n",
       "    }\n",
       "\n",
       "    .dataframe tbody tr th {\n",
       "        vertical-align: top;\n",
       "    }\n",
       "\n",
       "    .dataframe thead th {\n",
       "        text-align: right;\n",
       "    }\n",
       "</style>\n",
       "<table border=\"1\" class=\"dataframe\">\n",
       "  <thead>\n",
       "    <tr style=\"text-align: right;\">\n",
       "      <th></th>\n",
       "      <th>Name</th>\n",
       "      <th>Age</th>\n",
       "      <th>Marks</th>\n",
       "      <th>CGPA</th>\n",
       "    </tr>\n",
       "  </thead>\n",
       "  <tbody>\n",
       "    <tr>\n",
       "      <th>2</th>\n",
       "      <td>Mihir</td>\n",
       "      <td>12</td>\n",
       "      <td>67</td>\n",
       "      <td>9</td>\n",
       "    </tr>\n",
       "  </tbody>\n",
       "</table>\n",
       "</div>"
      ],
      "text/plain": [
       "    Name  Age  Marks  CGPA\n",
       "2  Mihir   12     67     9"
      ]
     },
     "execution_count": 21,
     "metadata": {},
     "output_type": "execute_result"
    }
   ],
   "source": [
    "df[df['Marks']== 67]"
   ]
  },
  {
   "cell_type": "code",
   "execution_count": 23,
   "id": "1440bbea",
   "metadata": {},
   "outputs": [
    {
     "data": {
      "text/html": [
       "<div>\n",
       "<style scoped>\n",
       "    .dataframe tbody tr th:only-of-type {\n",
       "        vertical-align: middle;\n",
       "    }\n",
       "\n",
       "    .dataframe tbody tr th {\n",
       "        vertical-align: top;\n",
       "    }\n",
       "\n",
       "    .dataframe thead th {\n",
       "        text-align: right;\n",
       "    }\n",
       "</style>\n",
       "<table border=\"1\" class=\"dataframe\">\n",
       "  <thead>\n",
       "    <tr style=\"text-align: right;\">\n",
       "      <th></th>\n",
       "      <th>Name</th>\n",
       "      <th>Age</th>\n",
       "      <th>Marks</th>\n",
       "      <th>CGPA</th>\n",
       "    </tr>\n",
       "  </thead>\n",
       "  <tbody>\n",
       "    <tr>\n",
       "      <th>1</th>\n",
       "      <td>Aniket</td>\n",
       "      <td>11</td>\n",
       "      <td>56</td>\n",
       "      <td>6</td>\n",
       "    </tr>\n",
       "    <tr>\n",
       "      <th>3</th>\n",
       "      <td>Tanvi</td>\n",
       "      <td>13</td>\n",
       "      <td>34</td>\n",
       "      <td>6</td>\n",
       "    </tr>\n",
       "  </tbody>\n",
       "</table>\n",
       "</div>"
      ],
      "text/plain": [
       "     Name  Age  Marks  CGPA\n",
       "1  Aniket   11     56     6\n",
       "3   Tanvi   13     34     6"
      ]
     },
     "execution_count": 23,
     "metadata": {},
     "output_type": "execute_result"
    }
   ],
   "source": [
    "df[df['CGPA']== 6]"
   ]
  },
  {
   "cell_type": "code",
   "execution_count": 24,
   "id": "cddd0aa4",
   "metadata": {},
   "outputs": [
    {
     "name": "stdout",
     "output_type": "stream",
     "text": [
      "<class 'pandas.core.frame.DataFrame'>\n",
      "RangeIndex: 5 entries, 0 to 4\n",
      "Data columns (total 4 columns):\n",
      " #   Column  Non-Null Count  Dtype \n",
      "---  ------  --------------  ----- \n",
      " 0   Name    5 non-null      object\n",
      " 1   Age     5 non-null      int64 \n",
      " 2   Marks   5 non-null      int64 \n",
      " 3   CGPA    5 non-null      int64 \n",
      "dtypes: int64(3), object(1)\n",
      "memory usage: 292.0+ bytes\n"
     ]
    }
   ],
   "source": [
    "# Checking DataFrame Information\n",
    "df.info() "
   ]
  },
  {
   "cell_type": "code",
   "execution_count": 25,
   "id": "e5234e69",
   "metadata": {},
   "outputs": [
    {
     "data": {
      "text/plain": [
       "Name     0\n",
       "Age      0\n",
       "Marks    0\n",
       "CGPA     0\n",
       "dtype: int64"
      ]
     },
     "execution_count": 25,
     "metadata": {},
     "output_type": "execute_result"
    }
   ],
   "source": [
    "# This code will check if any missing value in dataset\n",
    "df.isnull().sum()"
   ]
  },
  {
   "cell_type": "code",
   "execution_count": 26,
   "id": "20fc2000",
   "metadata": {},
   "outputs": [
    {
     "name": "stdout",
     "output_type": "stream",
     "text": [
      "247\n",
      "49.4\n",
      "67\n",
      "34\n",
      "3\n",
      "[34 56 67]\n",
      "Name\n",
      "Nikhil     1\n",
      "Aniket     1\n",
      "Mihir      1\n",
      "Tanvi      1\n",
      "Hemangi    1\n",
      "Name: count, dtype: int64\n",
      "Marks\n",
      "34    2\n",
      "56    2\n",
      "67    1\n",
      "Name: count, dtype: int64\n"
     ]
    }
   ],
   "source": [
    "print(df['Marks'].sum())\n",
    "print(df['Marks'].mean())\n",
    "print(df['Marks'].max())\n",
    "print(df['Marks'].min())\n",
    "print(df['Marks'].nunique())\n",
    "print(df['Marks'].unique())\n",
    "print(df['Name'].value_counts())\n",
    "print(df['Marks'].value_counts())"
   ]
  },
  {
   "cell_type": "code",
   "execution_count": 27,
   "id": "8c01f4ff",
   "metadata": {},
   "outputs": [
    {
     "name": "stdout",
     "output_type": "stream",
     "text": [
      "    Name  Salary  No_of_Exp   Domain  Age  Gender\n",
      "0    Ram   10000          4     Tech   26    Male\n",
      "1     Om   20000          5      R&D   29    Male\n",
      "2    Raj   30000          9      R&D   35    Male\n",
      "3  Manoj   40000          2     Tech   23    Male\n",
      "4   Puja   50000          7  NonTech   31  Female\n",
      "5  Aarvi   60000          1     Tech   21  Female\n",
      "6  Kumar   70000          3      R&D   25    Male\n",
      "7    Jay   80000          8  NonTech   27    Male\n"
     ]
    }
   ],
   "source": [
    "# Create Student Database\n",
    "company = {'Name':['Ram','Om','Raj','Manoj','Puja','Aarvi','Kumar','Jay'],\n",
    "            'Salary':[10000,20000,30000,40000,50000,60000,70000,80000],\n",
    "            'No_of_Exp':[4,5,9,2,7,1,3,8],\n",
    "            'Domain':['Tech','R&D','R&D','Tech','NonTech','Tech','R&D','NonTech'],\n",
    "            'Age':[26,29,35,23,31,21,25,27],\n",
    "            'Gender':['Male','Male','Male','Male','Female','Female','Male','Male']\n",
    "            }\n",
    "\n",
    "# Create a variable df: which will store dataframe\n",
    "df = pd.DataFrame(company)\n",
    "print(df)"
   ]
  },
  {
   "cell_type": "code",
   "execution_count": 28,
   "id": "fd4787e7",
   "metadata": {},
   "outputs": [
    {
     "name": "stdout",
     "output_type": "stream",
     "text": [
      "<class 'pandas.core.frame.DataFrame'>\n",
      "RangeIndex: 8 entries, 0 to 7\n",
      "Data columns (total 6 columns):\n",
      " #   Column     Non-Null Count  Dtype \n",
      "---  ------     --------------  ----- \n",
      " 0   Name       8 non-null      object\n",
      " 1   Salary     8 non-null      int64 \n",
      " 2   No_of_Exp  8 non-null      int64 \n",
      " 3   Domain     8 non-null      object\n",
      " 4   Age        8 non-null      int64 \n",
      " 5   Gender     8 non-null      object\n",
      "dtypes: int64(3), object(3)\n",
      "memory usage: 516.0+ bytes\n"
     ]
    }
   ],
   "source": [
    "# Checking Dataset Information\n",
    "df.info()"
   ]
  },
  {
   "cell_type": "code",
   "execution_count": 47,
   "id": "63ed6c31",
   "metadata": {},
   "outputs": [
    {
     "name": "stdout",
     "output_type": "stream",
     "text": [
      "9\n"
     ]
    }
   ],
   "source": [
    "# Evaluting the Max number of Exp From the Dataset\n",
    "df[df['No_of_Exp']== max]\n",
    "print(df['No_of_Exp'].max())"
   ]
  },
  {
   "cell_type": "code",
   "execution_count": null,
   "id": "e40cbe60",
   "metadata": {},
   "outputs": [
    {
     "name": "stdout",
     "output_type": "stream",
     "text": [
      "1\n"
     ]
    }
   ],
   "source": [
    "# Evaluting the Min number of Exp From the Dataset\n",
    "df[df['No_of_Exp']== 'min']\n",
    "print(df['No_of_Exp'].min())"
   ]
  },
  {
   "cell_type": "code",
   "execution_count": 49,
   "id": "c90a82e7",
   "metadata": {},
   "outputs": [
    {
     "name": "stdout",
     "output_type": "stream",
     "text": [
      "4.875\n"
     ]
    }
   ],
   "source": [
    "# Evaluting the Min number of Exp From the Dataset\n",
    "df[df['No_of_Exp']== 'mean']\n",
    "print(df['No_of_Exp'].mean())"
   ]
  },
  {
   "cell_type": "code",
   "execution_count": null,
   "id": "767223f4",
   "metadata": {},
   "outputs": [
    {
     "data": {
      "text/html": [
       "<div>\n",
       "<style scoped>\n",
       "    .dataframe tbody tr th:only-of-type {\n",
       "        vertical-align: middle;\n",
       "    }\n",
       "\n",
       "    .dataframe tbody tr th {\n",
       "        vertical-align: top;\n",
       "    }\n",
       "\n",
       "    .dataframe thead th {\n",
       "        text-align: right;\n",
       "    }\n",
       "</style>\n",
       "<table border=\"1\" class=\"dataframe\">\n",
       "  <thead>\n",
       "    <tr style=\"text-align: right;\">\n",
       "      <th></th>\n",
       "      <th>Name</th>\n",
       "      <th>Salary</th>\n",
       "      <th>No_of_Exp</th>\n",
       "      <th>Domain</th>\n",
       "      <th>Age</th>\n",
       "      <th>Gender</th>\n",
       "    </tr>\n",
       "  </thead>\n",
       "  <tbody>\n",
       "    <tr>\n",
       "      <th>4</th>\n",
       "      <td>Puja</td>\n",
       "      <td>50000</td>\n",
       "      <td>7</td>\n",
       "      <td>NonTech</td>\n",
       "      <td>31</td>\n",
       "      <td>Female</td>\n",
       "    </tr>\n",
       "    <tr>\n",
       "      <th>5</th>\n",
       "      <td>Aarvi</td>\n",
       "      <td>60000</td>\n",
       "      <td>1</td>\n",
       "      <td>Tech</td>\n",
       "      <td>21</td>\n",
       "      <td>Female</td>\n",
       "    </tr>\n",
       "  </tbody>\n",
       "</table>\n",
       "</div>"
      ],
      "text/plain": [
       "    Name  Salary  No_of_Exp   Domain  Age  Gender\n",
       "4   Puja   50000          7  NonTech   31  Female\n",
       "5  Aarvi   60000          1     Tech   21  Female"
      ]
     },
     "execution_count": 42,
     "metadata": {},
     "output_type": "execute_result"
    }
   ],
   "source": [
    "# Data of Female Employee\n",
    "df[df['Gender']== 'Female']"
   ]
  },
  {
   "cell_type": "code",
   "execution_count": null,
   "id": "21d4e41f",
   "metadata": {},
   "outputs": [
    {
     "data": {
      "text/html": [
       "<div>\n",
       "<style scoped>\n",
       "    .dataframe tbody tr th:only-of-type {\n",
       "        vertical-align: middle;\n",
       "    }\n",
       "\n",
       "    .dataframe tbody tr th {\n",
       "        vertical-align: top;\n",
       "    }\n",
       "\n",
       "    .dataframe thead th {\n",
       "        text-align: right;\n",
       "    }\n",
       "</style>\n",
       "<table border=\"1\" class=\"dataframe\">\n",
       "  <thead>\n",
       "    <tr style=\"text-align: right;\">\n",
       "      <th></th>\n",
       "      <th>Name</th>\n",
       "      <th>Salary</th>\n",
       "      <th>No_of_Exp</th>\n",
       "      <th>Domain</th>\n",
       "      <th>Age</th>\n",
       "      <th>Gender</th>\n",
       "    </tr>\n",
       "  </thead>\n",
       "  <tbody>\n",
       "    <tr>\n",
       "      <th>5</th>\n",
       "      <td>Aarvi</td>\n",
       "      <td>60000</td>\n",
       "      <td>1</td>\n",
       "      <td>Tech</td>\n",
       "      <td>21</td>\n",
       "      <td>Female</td>\n",
       "    </tr>\n",
       "  </tbody>\n",
       "</table>\n",
       "</div>"
      ],
      "text/plain": [
       "    Name  Salary  No_of_Exp Domain  Age  Gender\n",
       "5  Aarvi   60000          1   Tech   21  Female"
      ]
     },
     "execution_count": 48,
     "metadata": {},
     "output_type": "execute_result"
    }
   ],
   "source": [
    "# Data of Higest Salary Female Employee\n",
    "f = df[df['Gender']== 'Female']\n",
    "f['Salary'].max()\n",
    "f[f['Salary']== 60000]\n",
    "\n"
   ]
  },
  {
   "cell_type": "code",
   "execution_count": null,
   "id": "753f4087",
   "metadata": {},
   "outputs": [
    {
     "data": {
      "text/plain": [
       "Gender\n",
       "Male      6\n",
       "Female    2\n",
       "Name: count, dtype: int64"
      ]
     },
     "execution_count": 44,
     "metadata": {},
     "output_type": "execute_result"
    }
   ],
   "source": [
    "# Count of Gender\n",
    "df['Gender'].value_counts()"
   ]
  }
 ],
 "metadata": {
  "kernelspec": {
   "display_name": "base",
   "language": "python",
   "name": "python3"
  },
  "language_info": {
   "codemirror_mode": {
    "name": "ipython",
    "version": 3
   },
   "file_extension": ".py",
   "mimetype": "text/x-python",
   "name": "python",
   "nbconvert_exporter": "python",
   "pygments_lexer": "ipython3",
   "version": "3.12.7"
  }
 },
 "nbformat": 4,
 "nbformat_minor": 5
}
